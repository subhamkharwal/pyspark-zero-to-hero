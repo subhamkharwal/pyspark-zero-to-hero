{
  "cells": [
    {
      "cell_type": "markdown",
      "metadata": {
        "id": "view-in-github",
        "colab_type": "text"
      },
      "source": [
        "<a href=\"https://colab.research.google.com/github/ammfat/pyspark-zero-to-hero/blob/colab/06_unique_data_and_window.ipynb\" target=\"_parent\"><img src=\"https://colab.research.google.com/assets/colab-badge.svg\" alt=\"Open In Colab\"/></a>"
      ]
    },
    {
      "cell_type": "code",
      "execution_count": 1,
      "id": "9913130b-9ed3-4a87-a01d-a13cae0e3204",
      "metadata": {
        "id": "9913130b-9ed3-4a87-a01d-a13cae0e3204",
        "outputId": "08330aaa-d747-4cc0-ea1d-b3bbc35d4839",
        "colab": {
          "base_uri": "https://localhost:8080/",
          "height": 219
        }
      },
      "outputs": [
        {
          "output_type": "execute_result",
          "data": {
            "text/plain": [
              "<pyspark.sql.session.SparkSession at 0x7f873c542d50>"
            ],
            "text/html": [
              "\n",
              "            <div>\n",
              "                <p><b>SparkSession - in-memory</b></p>\n",
              "                \n",
              "        <div>\n",
              "            <p><b>SparkContext</b></p>\n",
              "\n",
              "            <p><a href=\"http://4a6f66843295:4040\">Spark UI</a></p>\n",
              "\n",
              "            <dl>\n",
              "              <dt>Version</dt>\n",
              "                <dd><code>v3.5.1</code></dd>\n",
              "              <dt>Master</dt>\n",
              "                <dd><code>local[*]</code></dd>\n",
              "              <dt>AppName</dt>\n",
              "                <dd><code>Unique data & Window Functions</code></dd>\n",
              "            </dl>\n",
              "        </div>\n",
              "        \n",
              "            </div>\n",
              "        "
            ]
          },
          "metadata": {},
          "execution_count": 1
        }
      ],
      "source": [
        "# Spark Session\n",
        "from pyspark.sql import SparkSession\n",
        "\n",
        "spark = (\n",
        "    SparkSession\n",
        "    .builder\n",
        "    .appName(\"Unique data & Window Functions\")\n",
        "    .master(\"local[*]\")\n",
        "    .getOrCreate()\n",
        ")\n",
        "\n",
        "spark"
      ]
    },
    {
      "cell_type": "code",
      "execution_count": 2,
      "id": "7f6357c0-ccf8-43de-8f7d-69d5a9314fef",
      "metadata": {
        "id": "7f6357c0-ccf8-43de-8f7d-69d5a9314fef"
      },
      "outputs": [],
      "source": [
        "# Emp Data & Schema\n",
        "\n",
        "emp_data = [\n",
        "    [\"001\",\"101\",\"John Doe\",\"30\",\"Male\",\"50000\",\"2015-01-01\"],\n",
        "    [\"002\",\"101\",\"Jane Smith\",\"25\",\"Female\",\"45000\",\"2016-02-15\"],\n",
        "    [\"003\",\"102\",\"Bob Brown\",\"35\",\"Male\",\"55000\",\"2014-05-01\"],\n",
        "    [\"004\",\"102\",\"Alice Lee\",\"28\",\"Female\",\"48000\",\"2017-09-30\"],\n",
        "    [\"005\",\"103\",\"Jack Chan\",\"40\",\"Male\",\"60000\",\"2013-04-01\"],\n",
        "    [\"006\",\"103\",\"Jill Wong\",\"32\",\"Female\",\"52000\",\"2018-07-01\"],\n",
        "    [\"007\",\"101\",\"James Johnson\",\"42\",\"Male\",\"70000\",\"2012-03-15\"],\n",
        "    [\"008\",\"102\",\"Kate Kim\",\"29\",\"Female\",\"51000\",\"2019-10-01\"],\n",
        "    [\"009\",\"103\",\"Tom Tan\",\"33\",\"Male\",\"58000\",\"2016-06-01\"],\n",
        "    [\"010\",\"104\",\"Lisa Lee\",\"27\",\"Female\",\"47000\",\"2018-08-01\"],\n",
        "    [\"011\",\"104\",\"David Park\",\"38\",\"Male\",\"65000\",\"2015-11-01\"],\n",
        "    [\"012\",\"105\",\"Susan Chen\",\"31\",\"Female\",\"54000\",\"2017-02-15\"],\n",
        "    [\"013\",\"106\",\"Brian Kim\",\"45\",\"Male\",\"75000\",\"2011-07-01\"],\n",
        "    [\"014\",\"107\",\"Emily Lee\",\"26\",\"Female\",\"46000\",\"2019-01-01\"],\n",
        "    [\"015\",\"106\",\"Michael Lee\",\"37\",\"Male\",\"63000\",\"2014-09-30\"],\n",
        "    [\"016\",\"107\",\"Kelly Zhang\",\"30\",\"Female\",\"49000\",\"2018-04-01\"],\n",
        "    [\"017\",\"105\",\"George Wang\",\"34\",\"Male\",\"57000\",\"2016-03-15\"],\n",
        "    [\"018\",\"104\",\"Nancy Liu\",\"29\",\"\",\"50000\",\"2017-06-01\"],\n",
        "    [\"019\",\"103\",\"Steven Chen\",\"36\",\"Male\",\"62000\",\"2015-08-01\"],\n",
        "    [\"020\",\"102\",\"Grace Kim\",\"32\",\"Female\",\"53000\",\"2018-11-01\"]\n",
        "]\n",
        "\n",
        "emp_schema = \"employee_id string, department_id string, name string, age string, gender string, salary string, hire_date string\""
      ]
    },
    {
      "cell_type": "code",
      "execution_count": 3,
      "id": "9bdc19a5-b213-498e-8e1f-63650523c441",
      "metadata": {
        "id": "9bdc19a5-b213-498e-8e1f-63650523c441"
      },
      "outputs": [],
      "source": [
        "# Create emp DataFrame\n",
        "\n",
        "emp = spark.createDataFrame(data=emp_data, schema=emp_schema)"
      ]
    },
    {
      "cell_type": "code",
      "execution_count": 4,
      "id": "9d81001d-2633-439f-9153-9b1ef27e64a8",
      "metadata": {
        "id": "9d81001d-2633-439f-9153-9b1ef27e64a8",
        "outputId": "933ca995-9ab6-4a42-d7bc-d58a34c395a3",
        "colab": {
          "base_uri": "https://localhost:8080/"
        }
      },
      "outputs": [
        {
          "output_type": "stream",
          "name": "stdout",
          "text": [
            "+-----------+-------------+-------------+---+------+------+----------+\n",
            "|employee_id|department_id|         name|age|gender|salary| hire_date|\n",
            "+-----------+-------------+-------------+---+------+------+----------+\n",
            "|        001|          101|     John Doe| 30|  Male| 50000|2015-01-01|\n",
            "|        002|          101|   Jane Smith| 25|Female| 45000|2016-02-15|\n",
            "|        003|          102|    Bob Brown| 35|  Male| 55000|2014-05-01|\n",
            "|        004|          102|    Alice Lee| 28|Female| 48000|2017-09-30|\n",
            "|        005|          103|    Jack Chan| 40|  Male| 60000|2013-04-01|\n",
            "|        006|          103|    Jill Wong| 32|Female| 52000|2018-07-01|\n",
            "|        007|          101|James Johnson| 42|  Male| 70000|2012-03-15|\n",
            "|        008|          102|     Kate Kim| 29|Female| 51000|2019-10-01|\n",
            "|        009|          103|      Tom Tan| 33|  Male| 58000|2016-06-01|\n",
            "|        010|          104|     Lisa Lee| 27|Female| 47000|2018-08-01|\n",
            "|        011|          104|   David Park| 38|  Male| 65000|2015-11-01|\n",
            "|        012|          105|   Susan Chen| 31|Female| 54000|2017-02-15|\n",
            "|        013|          106|    Brian Kim| 45|  Male| 75000|2011-07-01|\n",
            "|        014|          107|    Emily Lee| 26|Female| 46000|2019-01-01|\n",
            "|        015|          106|  Michael Lee| 37|  Male| 63000|2014-09-30|\n",
            "|        016|          107|  Kelly Zhang| 30|Female| 49000|2018-04-01|\n",
            "|        017|          105|  George Wang| 34|  Male| 57000|2016-03-15|\n",
            "|        018|          104|    Nancy Liu| 29|      | 50000|2017-06-01|\n",
            "|        019|          103|  Steven Chen| 36|  Male| 62000|2015-08-01|\n",
            "|        020|          102|    Grace Kim| 32|Female| 53000|2018-11-01|\n",
            "+-----------+-------------+-------------+---+------+------+----------+\n",
            "\n"
          ]
        }
      ],
      "source": [
        "# Show emp dataframe (ACTION)\n",
        "\n",
        "emp.show()"
      ]
    },
    {
      "cell_type": "code",
      "execution_count": 5,
      "id": "d340333a-1ff1-4b60-a602-6342a056cf3a",
      "metadata": {
        "id": "d340333a-1ff1-4b60-a602-6342a056cf3a",
        "outputId": "52e5c016-3dff-4289-8683-b081db4fe3d5",
        "colab": {
          "base_uri": "https://localhost:8080/"
        }
      },
      "outputs": [
        {
          "output_type": "stream",
          "name": "stdout",
          "text": [
            "root\n",
            " |-- employee_id: string (nullable = true)\n",
            " |-- department_id: string (nullable = true)\n",
            " |-- name: string (nullable = true)\n",
            " |-- age: string (nullable = true)\n",
            " |-- gender: string (nullable = true)\n",
            " |-- salary: string (nullable = true)\n",
            " |-- hire_date: string (nullable = true)\n",
            "\n"
          ]
        }
      ],
      "source": [
        "# Print Schema\n",
        "\n",
        "emp.printSchema()"
      ]
    },
    {
      "cell_type": "code",
      "execution_count": 6,
      "id": "6b99ead2-9509-43b0-83e9-a8f1eaebffe9",
      "metadata": {
        "id": "6b99ead2-9509-43b0-83e9-a8f1eaebffe9"
      },
      "outputs": [],
      "source": [
        "# Get unique data\n",
        "# select distinct emp.* from emp\n",
        "emp_unique = emp.distinct()\n",
        "\n"
      ]
    },
    {
      "cell_type": "code",
      "execution_count": 7,
      "id": "b3fc51ab-910b-41ff-bc29-10f9fc0a4181",
      "metadata": {
        "id": "b3fc51ab-910b-41ff-bc29-10f9fc0a4181",
        "outputId": "0cd43938-60cc-406b-bdd8-5cf9daff60ea",
        "colab": {
          "base_uri": "https://localhost:8080/"
        }
      },
      "outputs": [
        {
          "output_type": "stream",
          "name": "stdout",
          "text": [
            "+-----------+-------------+-------------+---+------+------+----------+\n",
            "|employee_id|department_id|         name|age|gender|salary| hire_date|\n",
            "+-----------+-------------+-------------+---+------+------+----------+\n",
            "|        007|          101|James Johnson| 42|  Male| 70000|2012-03-15|\n",
            "|        003|          102|    Bob Brown| 35|  Male| 55000|2014-05-01|\n",
            "|        001|          101|     John Doe| 30|  Male| 50000|2015-01-01|\n",
            "|        005|          103|    Jack Chan| 40|  Male| 60000|2013-04-01|\n",
            "|        010|          104|     Lisa Lee| 27|Female| 47000|2018-08-01|\n",
            "|        009|          103|      Tom Tan| 33|  Male| 58000|2016-06-01|\n",
            "|        004|          102|    Alice Lee| 28|Female| 48000|2017-09-30|\n",
            "|        008|          102|     Kate Kim| 29|Female| 51000|2019-10-01|\n",
            "|        006|          103|    Jill Wong| 32|Female| 52000|2018-07-01|\n",
            "|        002|          101|   Jane Smith| 25|Female| 45000|2016-02-15|\n",
            "|        015|          106|  Michael Lee| 37|  Male| 63000|2014-09-30|\n",
            "|        012|          105|   Susan Chen| 31|Female| 54000|2017-02-15|\n",
            "|        016|          107|  Kelly Zhang| 30|Female| 49000|2018-04-01|\n",
            "|        019|          103|  Steven Chen| 36|  Male| 62000|2015-08-01|\n",
            "|        011|          104|   David Park| 38|  Male| 65000|2015-11-01|\n",
            "|        014|          107|    Emily Lee| 26|Female| 46000|2019-01-01|\n",
            "|        017|          105|  George Wang| 34|  Male| 57000|2016-03-15|\n",
            "|        018|          104|    Nancy Liu| 29|      | 50000|2017-06-01|\n",
            "|        020|          102|    Grace Kim| 32|Female| 53000|2018-11-01|\n",
            "|        013|          106|    Brian Kim| 45|  Male| 75000|2011-07-01|\n",
            "+-----------+-------------+-------------+---+------+------+----------+\n",
            "\n"
          ]
        }
      ],
      "source": [
        "emp_unique.show()"
      ]
    },
    {
      "cell_type": "code",
      "execution_count": 8,
      "id": "c42b4ccb-373b-404c-aa89-db6a40bf3925",
      "metadata": {
        "id": "c42b4ccb-373b-404c-aa89-db6a40bf3925"
      },
      "outputs": [],
      "source": [
        "# Unique of department_ids\n",
        "# select distinct department_id from emp\n",
        "emp_dept_id = emp.select(\"department_id\").distinct()\n"
      ]
    },
    {
      "cell_type": "code",
      "execution_count": 9,
      "id": "8eefbe8f-b34d-4e25-8c3c-0a3bd26b2748",
      "metadata": {
        "id": "8eefbe8f-b34d-4e25-8c3c-0a3bd26b2748",
        "outputId": "561de785-36ea-4940-c8de-e504a6364198",
        "colab": {
          "base_uri": "https://localhost:8080/"
        }
      },
      "outputs": [
        {
          "output_type": "stream",
          "name": "stdout",
          "text": [
            "+-------------+\n",
            "|department_id|\n",
            "+-------------+\n",
            "|          101|\n",
            "|          104|\n",
            "|          102|\n",
            "|          103|\n",
            "|          107|\n",
            "|          106|\n",
            "|          105|\n",
            "+-------------+\n",
            "\n"
          ]
        }
      ],
      "source": [
        "emp_dept_id.show()"
      ]
    },
    {
      "cell_type": "code",
      "execution_count": 10,
      "id": "40e8d717-c449-42f4-a3e3-6bff56077b6b",
      "metadata": {
        "id": "40e8d717-c449-42f4-a3e3-6bff56077b6b"
      },
      "outputs": [],
      "source": [
        "# Window Functions\n",
        "# select *, max(salary) over(partition by department_id order by salary desc) as max_salary from emp_unique\n",
        "from pyspark.sql.window import Window\n",
        "from pyspark.sql.functions import max, col, desc\n",
        "\n",
        "window_spec = Window.partitionBy(col(\"department_id\")).orderBy(col(\"salary\").desc())\n",
        "max_func = max(col(\"salary\")).over(window_spec)\n",
        "\n",
        "emp_1 = emp.withColumn(\"max_salary\", max_func)\n",
        "\n"
      ]
    },
    {
      "cell_type": "code",
      "execution_count": 11,
      "id": "fc42d609-f44f-43eb-a63e-f98c23fd8204",
      "metadata": {
        "id": "fc42d609-f44f-43eb-a63e-f98c23fd8204",
        "outputId": "31e5646b-ed72-47af-e59f-1df9eaddc63f",
        "colab": {
          "base_uri": "https://localhost:8080/"
        }
      },
      "outputs": [
        {
          "output_type": "stream",
          "name": "stdout",
          "text": [
            "+-----------+-------------+-------------+---+------+------+----------+----------+\n",
            "|employee_id|department_id|         name|age|gender|salary| hire_date|max_salary|\n",
            "+-----------+-------------+-------------+---+------+------+----------+----------+\n",
            "|        007|          101|James Johnson| 42|  Male| 70000|2012-03-15|     70000|\n",
            "|        001|          101|     John Doe| 30|  Male| 50000|2015-01-01|     70000|\n",
            "|        002|          101|   Jane Smith| 25|Female| 45000|2016-02-15|     70000|\n",
            "|        003|          102|    Bob Brown| 35|  Male| 55000|2014-05-01|     55000|\n",
            "|        020|          102|    Grace Kim| 32|Female| 53000|2018-11-01|     55000|\n",
            "|        008|          102|     Kate Kim| 29|Female| 51000|2019-10-01|     55000|\n",
            "|        004|          102|    Alice Lee| 28|Female| 48000|2017-09-30|     55000|\n",
            "|        019|          103|  Steven Chen| 36|  Male| 62000|2015-08-01|     62000|\n",
            "|        005|          103|    Jack Chan| 40|  Male| 60000|2013-04-01|     62000|\n",
            "|        009|          103|      Tom Tan| 33|  Male| 58000|2016-06-01|     62000|\n",
            "|        006|          103|    Jill Wong| 32|Female| 52000|2018-07-01|     62000|\n",
            "|        011|          104|   David Park| 38|  Male| 65000|2015-11-01|     65000|\n",
            "|        018|          104|    Nancy Liu| 29|      | 50000|2017-06-01|     65000|\n",
            "|        010|          104|     Lisa Lee| 27|Female| 47000|2018-08-01|     65000|\n",
            "|        017|          105|  George Wang| 34|  Male| 57000|2016-03-15|     57000|\n",
            "|        012|          105|   Susan Chen| 31|Female| 54000|2017-02-15|     57000|\n",
            "|        013|          106|    Brian Kim| 45|  Male| 75000|2011-07-01|     75000|\n",
            "|        015|          106|  Michael Lee| 37|  Male| 63000|2014-09-30|     75000|\n",
            "|        016|          107|  Kelly Zhang| 30|Female| 49000|2018-04-01|     49000|\n",
            "|        014|          107|    Emily Lee| 26|Female| 46000|2019-01-01|     49000|\n",
            "+-----------+-------------+-------------+---+------+------+----------+----------+\n",
            "\n"
          ]
        }
      ],
      "source": [
        "emp_1.show()\n",
        "\n",
        "# Window Functions - 2nd highest salary of each department\n",
        "# select *, row_number() over(partition by department_id order by salary desc) as rn from emp_unique where rn = 2\n",
        "from pyspark.sql.window import Window\n",
        "from pyspark.sql.functions import row_number, desc, col\n",
        "\n",
        "window_spec = Window.partitionBy(col(\"department_id\")).orderBy(col(\"salary\").desc())\n",
        "rn = row_number().over(window_spec)\n",
        "\n",
        "emp_2 = emp.withColumn(\"rn\", rn).where(\"rn = 2\")\n",
        "\n"
      ]
    },
    {
      "cell_type": "code",
      "execution_count": 12,
      "id": "e3bc6295-4e8f-44a4-8baf-e45f1739248b",
      "metadata": {
        "id": "e3bc6295-4e8f-44a4-8baf-e45f1739248b",
        "outputId": "785bfbb1-8256-4db9-da76-ba080729d8cc",
        "colab": {
          "base_uri": "https://localhost:8080/"
        }
      },
      "outputs": [
        {
          "output_type": "stream",
          "name": "stdout",
          "text": [
            "+-----------+-------------+-----------+---+------+------+----------+---+\n",
            "|employee_id|department_id|       name|age|gender|salary| hire_date| rn|\n",
            "+-----------+-------------+-----------+---+------+------+----------+---+\n",
            "|        001|          101|   John Doe| 30|  Male| 50000|2015-01-01|  2|\n",
            "|        020|          102|  Grace Kim| 32|Female| 53000|2018-11-01|  2|\n",
            "|        005|          103|  Jack Chan| 40|  Male| 60000|2013-04-01|  2|\n",
            "|        018|          104|  Nancy Liu| 29|      | 50000|2017-06-01|  2|\n",
            "|        012|          105| Susan Chen| 31|Female| 54000|2017-02-15|  2|\n",
            "|        015|          106|Michael Lee| 37|  Male| 63000|2014-09-30|  2|\n",
            "|        014|          107|  Emily Lee| 26|Female| 46000|2019-01-01|  2|\n",
            "+-----------+-------------+-----------+---+------+------+----------+---+\n",
            "\n"
          ]
        }
      ],
      "source": [
        "emp_2.show()"
      ]
    },
    {
      "cell_type": "code",
      "execution_count": 13,
      "id": "f5a249be-bfab-4bde-ae61-eb6782660b49",
      "metadata": {
        "id": "f5a249be-bfab-4bde-ae61-eb6782660b49"
      },
      "outputs": [],
      "source": [
        "# Window function using expr\n",
        "# select *, row_number() over(partition by department_id order by salary desc) as rn from emp_unique where rn = 2\n",
        "from pyspark.sql.functions import expr\n",
        "\n",
        "emp_3 = emp.withColumn(\"rn\", expr(\"row_number() over(partition by department_id order by salary desc)\")).where(\"rn = 2\")\n",
        "\n"
      ]
    },
    {
      "cell_type": "code",
      "execution_count": 14,
      "id": "e590c9bb-3519-4511-921b-e851f385deda",
      "metadata": {
        "id": "e590c9bb-3519-4511-921b-e851f385deda",
        "outputId": "568df166-3497-42a0-f42d-df5d8496ae9f",
        "colab": {
          "base_uri": "https://localhost:8080/"
        }
      },
      "outputs": [
        {
          "output_type": "stream",
          "name": "stdout",
          "text": [
            "+-----------+-------------+-----------+---+------+------+----------+---+\n",
            "|employee_id|department_id|       name|age|gender|salary| hire_date| rn|\n",
            "+-----------+-------------+-----------+---+------+------+----------+---+\n",
            "|        001|          101|   John Doe| 30|  Male| 50000|2015-01-01|  2|\n",
            "|        020|          102|  Grace Kim| 32|Female| 53000|2018-11-01|  2|\n",
            "|        005|          103|  Jack Chan| 40|  Male| 60000|2013-04-01|  2|\n",
            "|        018|          104|  Nancy Liu| 29|      | 50000|2017-06-01|  2|\n",
            "|        012|          105| Susan Chen| 31|Female| 54000|2017-02-15|  2|\n",
            "|        015|          106|Michael Lee| 37|  Male| 63000|2014-09-30|  2|\n",
            "|        014|          107|  Emily Lee| 26|Female| 46000|2019-01-01|  2|\n",
            "+-----------+-------------+-----------+---+------+------+----------+---+\n",
            "\n"
          ]
        }
      ],
      "source": [
        "emp_3.show()"
      ]
    },
    {
      "cell_type": "code",
      "execution_count": 15,
      "id": "fdb7ba53-5875-4e9c-8e95-a29b0b3e73b3",
      "metadata": {
        "id": "fdb7ba53-5875-4e9c-8e95-a29b0b3e73b3"
      },
      "outputs": [],
      "source": [
        "# Bonus TIP\n",
        "# Databricks community cloud"
      ]
    }
  ],
  "metadata": {
    "kernelspec": {
      "display_name": "Python 3 (ipykernel)",
      "language": "python",
      "name": "python3"
    },
    "language_info": {
      "codemirror_mode": {
        "name": "ipython",
        "version": 3
      },
      "file_extension": ".py",
      "mimetype": "text/x-python",
      "name": "python",
      "nbconvert_exporter": "python",
      "pygments_lexer": "ipython3",
      "version": "3.10.9"
    },
    "colab": {
      "provenance": [],
      "include_colab_link": true
    }
  },
  "nbformat": 4,
  "nbformat_minor": 5
}
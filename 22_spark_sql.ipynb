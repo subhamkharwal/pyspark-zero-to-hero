{
  "cells": [
    {
      "cell_type": "markdown",
      "metadata": {
        "id": "view-in-github",
        "colab_type": "text"
      },
      "source": [
        "<a href=\"https://colab.research.google.com/github/ammfat/pyspark-zero-to-hero/blob/colab/22_spark_sql.ipynb\" target=\"_parent\"><img src=\"https://colab.research.google.com/assets/colab-badge.svg\" alt=\"Open In Colab\"/></a>"
      ]
    },
    {
      "cell_type": "code",
      "execution_count": 2,
      "id": "725a0310-8f01-4ede-966a-265abf864da1",
      "metadata": {
        "tags": [],
        "colab": {
          "base_uri": "https://localhost:8080/",
          "height": 219
        },
        "id": "725a0310-8f01-4ede-966a-265abf864da1",
        "outputId": "20247dcf-a8ce-4275-a03d-b8ed96a1de7e"
      },
      "outputs": [
        {
          "output_type": "execute_result",
          "data": {
            "text/plain": [
              "<pyspark.sql.session.SparkSession at 0x78864a121850>"
            ],
            "text/html": [
              "\n",
              "            <div>\n",
              "                <p><b>SparkSession - hive</b></p>\n",
              "                \n",
              "        <div>\n",
              "            <p><b>SparkContext</b></p>\n",
              "\n",
              "            <p><a href=\"http://1cb55cb2ba8e:4040\">Spark UI</a></p>\n",
              "\n",
              "            <dl>\n",
              "              <dt>Version</dt>\n",
              "                <dd><code>v3.5.1</code></dd>\n",
              "              <dt>Master</dt>\n",
              "                <dd><code>local[*]</code></dd>\n",
              "              <dt>AppName</dt>\n",
              "                <dd><code>Spark SQL</code></dd>\n",
              "            </dl>\n",
              "        </div>\n",
              "        \n",
              "            </div>\n",
              "        "
            ]
          },
          "metadata": {},
          "execution_count": 2
        }
      ],
      "source": [
        "# Spark Session\n",
        "from pyspark.sql import SparkSession\n",
        "\n",
        "spark = (\n",
        "    SparkSession\n",
        "    .builder\n",
        "    .appName(\"Spark SQL\")\n",
        "    .master(\"local[*]\")\n",
        "    .enableHiveSupport()\n",
        "    .config(\"spark.sql.warehouse.dir\", \"/data/output/spark-warehouse\")\n",
        "    .getOrCreate()\n",
        ")\n",
        "\n",
        "spark"
      ]
    },
    {
      "cell_type": "code",
      "source": [
        "!mkdir -p /data/input\n",
        "\n",
        "!wget https://media.githubusercontent.com/media/ammfat/pyspark-zero-to-hero/refs/heads/colab/datasets/employee_records.csv\n",
        "!wget https://media.githubusercontent.com/media/ammfat/pyspark-zero-to-hero/refs/heads/colab/datasets/department_data.csv\n",
        "\n",
        "!mv ./employee_records.csv /data/input/employee_records_skewed.csv\n",
        "!mv ./department_data.csv /data/input"
      ],
      "metadata": {
        "colab": {
          "base_uri": "https://localhost:8080/"
        },
        "id": "AMVLxTzTNXjk",
        "outputId": "b523cdfc-1a51-47c4-c574-d8e6fb539cb8"
      },
      "id": "AMVLxTzTNXjk",
      "execution_count": 8,
      "outputs": [
        {
          "output_type": "stream",
          "name": "stdout",
          "text": [
            "--2025-08-14 20:17:19--  https://media.githubusercontent.com/media/ammfat/pyspark-zero-to-hero/refs/heads/colab/datasets/employee_records.csv\n",
            "Resolving media.githubusercontent.com (media.githubusercontent.com)... 185.199.108.133, 185.199.109.133, 185.199.110.133, ...\n",
            "Connecting to media.githubusercontent.com (media.githubusercontent.com)|185.199.108.133|:443... connected.\n",
            "HTTP request sent, awaiting response... 200 OK\n",
            "Length: 97427001 (93M) [text/plain]\n",
            "Saving to: ‘employee_records.csv’\n",
            "\n",
            "employee_records.cs 100%[===================>]  92.91M   327MB/s    in 0.3s    \n",
            "\n",
            "2025-08-14 20:17:19 (327 MB/s) - ‘employee_records.csv’ saved [97427001/97427001]\n",
            "\n",
            "--2025-08-14 20:17:19--  https://media.githubusercontent.com/media/ammfat/pyspark-zero-to-hero/refs/heads/colab/datasets/department_data.csv\n",
            "Resolving media.githubusercontent.com (media.githubusercontent.com)... 185.199.108.133, 185.199.109.133, 185.199.110.133, ...\n",
            "Connecting to media.githubusercontent.com (media.githubusercontent.com)|185.199.108.133|:443... connected.\n",
            "HTTP request sent, awaiting response... 200 OK\n",
            "Length: 900 [text/plain]\n",
            "Saving to: ‘department_data.csv’\n",
            "\n",
            "department_data.csv 100%[===================>]     900  --.-KB/s    in 0s      \n",
            "\n",
            "2025-08-14 20:17:19 (17.0 MB/s) - ‘department_data.csv’ saved [900/900]\n",
            "\n"
          ]
        }
      ]
    },
    {
      "cell_type": "code",
      "execution_count": 10,
      "id": "3612195d-5439-4251-9031-f9825d7b25a0",
      "metadata": {
        "tags": [],
        "id": "3612195d-5439-4251-9031-f9825d7b25a0"
      },
      "outputs": [],
      "source": [
        "# Read Employee data\n",
        "_schema = \"first_name string, last_name string, job_title string, dob string, email string, phone string, salary double, department_id int\"\n",
        "\n",
        "emp = spark.read.format(\"csv\").schema(_schema).option(\"header\", True).load(\"/data/input/employee_records_skewed.csv\")"
      ]
    },
    {
      "cell_type": "code",
      "execution_count": 11,
      "id": "5c7976b6-ebdb-45ee-a625-7a6ff9ddd9a1",
      "metadata": {
        "tags": [],
        "id": "5c7976b6-ebdb-45ee-a625-7a6ff9ddd9a1"
      },
      "outputs": [],
      "source": [
        "# Read DEPT CSV data\n",
        "_dept_schema = \"department_id int, department_name string, description string, city string, state string, country string\"\n",
        "\n",
        "dept = spark.read.format(\"csv\").schema(_dept_schema).option(\"header\", True).load(\"/data/input/department_data.csv\")"
      ]
    },
    {
      "cell_type": "code",
      "execution_count": 12,
      "id": "6853bf7f-371d-4e14-bd43-3d6aea2eadec",
      "metadata": {
        "tags": [],
        "colab": {
          "base_uri": "https://localhost:8080/",
          "height": 35
        },
        "id": "6853bf7f-371d-4e14-bd43-3d6aea2eadec",
        "outputId": "72b08506-6da7-4ab3-9ee8-7e1dd0c053d6"
      },
      "outputs": [
        {
          "output_type": "execute_result",
          "data": {
            "text/plain": [
              "'hive'"
            ],
            "application/vnd.google.colaboratory.intrinsic+json": {
              "type": "string"
            }
          },
          "metadata": {},
          "execution_count": 12
        }
      ],
      "source": [
        "# Spark Catalog (Metadata) - in-memory/hive\n",
        "\n",
        "spark.conf.get(\"spark.sql.catalogImplementation\")"
      ]
    },
    {
      "cell_type": "code",
      "execution_count": 14,
      "id": "a1b6994a-07ef-42d3-a3f8-ea50ff2cac56",
      "metadata": {
        "tags": [],
        "colab": {
          "base_uri": "https://localhost:8080/"
        },
        "id": "a1b6994a-07ef-42d3-a3f8-ea50ff2cac56",
        "outputId": "221a276f-a983-42c5-c676-bb83fa1c2de9"
      },
      "outputs": [
        {
          "output_type": "stream",
          "name": "stdout",
          "text": [
            "+---------+\n",
            "|namespace|\n",
            "+---------+\n",
            "|  default|\n",
            "+---------+\n",
            "\n"
          ]
        }
      ],
      "source": [
        "# Show databases\n",
        "db = spark.sql(\"show databases\")\n",
        "db.show()"
      ]
    },
    {
      "cell_type": "code",
      "execution_count": 15,
      "id": "3d7960ca-d561-406d-b9ca-60dac6448b49",
      "metadata": {
        "tags": [],
        "colab": {
          "base_uri": "https://localhost:8080/"
        },
        "id": "3d7960ca-d561-406d-b9ca-60dac6448b49",
        "outputId": "32f41665-ac94-4f9b-e3ee-2033bf396b0c"
      },
      "outputs": [
        {
          "output_type": "stream",
          "name": "stdout",
          "text": [
            "+---------+---------+-----------+\n",
            "|namespace|tableName|isTemporary|\n",
            "+---------+---------+-----------+\n",
            "+---------+---------+-----------+\n",
            "\n"
          ]
        }
      ],
      "source": [
        "spark.sql(\"show tables in default\").show()"
      ]
    },
    {
      "cell_type": "code",
      "execution_count": 16,
      "id": "2fdb89b1-4cef-407c-8b8d-a557b3856378",
      "metadata": {
        "tags": [],
        "id": "2fdb89b1-4cef-407c-8b8d-a557b3856378"
      },
      "outputs": [],
      "source": [
        "# Register dataframes are temp views\n",
        "\n",
        "emp.createOrReplaceTempView(\"emp_view\")\n",
        "\n",
        "dept.createOrReplaceTempView(\"dept_view\")\n"
      ]
    },
    {
      "cell_type": "code",
      "execution_count": 17,
      "id": "71195028-b990-47a5-9466-9ed29854f406",
      "metadata": {
        "tags": [],
        "id": "71195028-b990-47a5-9466-9ed29854f406"
      },
      "outputs": [],
      "source": [
        "# Show tables/view in catalog\n",
        "\n"
      ]
    },
    {
      "cell_type": "code",
      "execution_count": 18,
      "id": "7f2a1068-0c2f-4ddf-9975-e56f78e57129",
      "metadata": {
        "tags": [],
        "id": "7f2a1068-0c2f-4ddf-9975-e56f78e57129"
      },
      "outputs": [],
      "source": [
        "# View data from table\n",
        "\n",
        "emp_filtered = spark.sql(\"\"\"\n",
        "    select * from emp_view\n",
        "    where department_id = 1\n",
        "\"\"\")"
      ]
    },
    {
      "cell_type": "code",
      "execution_count": 19,
      "id": "9efa345c-d4d9-4ab3-98d7-c79030e2f709",
      "metadata": {
        "tags": [],
        "colab": {
          "base_uri": "https://localhost:8080/"
        },
        "id": "9efa345c-d4d9-4ab3-98d7-c79030e2f709",
        "outputId": "e3f68819-c423-4fdb-b8bb-3152943b808a"
      },
      "outputs": [
        {
          "output_type": "stream",
          "name": "stdout",
          "text": [
            "+-----------+---------+--------------------+----------+--------------------+--------------------+--------+-------------+\n",
            "| first_name|last_name|           job_title|       dob|               email|               phone|  salary|department_id|\n",
            "+-----------+---------+--------------------+----------+--------------------+--------------------+--------+-------------+\n",
            "|       John|   Monroe|        Retail buyer|1968-06-16|  erik33@example.net|    820-813-0557x624|485506.0|            1|\n",
            "|    Rachael|Rodriguez|         Media buyer|1966-12-02|griffinmary@examp...| +1-791-344-7586x548|544732.0|            1|\n",
            "|Christopher| Callahan| Exhibition designer|1966-10-23| qwalter@example.com|001-947-745-3939x...|251057.0|            1|\n",
            "|    Lindsey|   Huerta|Embryologist, cli...|1964-10-20|  psmith@example.net|   527.934.6665x1378|878257.0|            1|\n",
            "|      David|   Harris|   Company secretary|1990-04-13|     nli@example.com|001-959-766-1180x...|249553.0|            1|\n",
            "|      Brian|Hernandez|     Theatre manager|1978-05-05|  lisa93@example.com|        617-444-2378| 99894.0|            1|\n",
            "|      Peter|  Stevens|   Recycling officer|1983-06-10|jamesparker@examp...|   577-619-5082x8283|842980.0|            1|\n",
            "|       John|  Acevedo|Leisure centre ma...|1963-10-13|daniel21@example.org|  (247)878-5722x3342|385821.0|            1|\n",
            "|     Steven|      Lee|Adult guidance wo...|1969-06-01|wernergabriel@exa...|001-564-541-5402x...|336534.0|            1|\n",
            "|     Denise|     Dean|           Herbalist|1972-06-27|stephenwilliams@e...|        269.375.8072|656850.0|            1|\n",
            "|      Blake|       Wu| Marketing executive|1965-12-29|  gdoyle@example.net|+1-559-646-6295x3...|470459.0|            1|\n",
            "|      Billy|    Poole| Animal nutritionist|1969-05-31|maryhill@example.net|        713-637-6222|636619.0|            1|\n",
            "|       Eric|      Key|               Actor|1992-09-02|colemanshawn@exam...|   368.865.1746x2103|836623.0|            1|\n",
            "|     Amanda|     Ford|Health service ma...|1990-10-06|strongstephanie@e...|          5088050717|258843.0|            1|\n",
            "|      Jason|     Page|Historic building...|1964-02-22|woodsdebra@exampl...|001-327-358-1554x413| 76017.0|            1|\n",
            "|      Kelly|     Pugh|    Heritage manager|1972-07-17|paulmichelle@exam...|001-710-376-9474x...|332664.0|            1|\n",
            "|      Katie|    Rojas|    Paediatric nurse|1966-12-06|wilsoncurtis@exam...|+1-394-952-6247x7544|318915.0|            1|\n",
            "|    William|     Shaw|      Water engineer|1971-03-23|ngutierrez@exampl...|    674.916.1038x751|340283.0|            1|\n",
            "|      Linda|     Hill|Exercise physiolo...|1972-02-23|deckerdavid@examp...|   (931)974-8866x513|630520.0|            1|\n",
            "|  Christina| Martinez|Historic building...|1976-03-07| emily31@example.org|   277.954.3449x4345|383173.0|            1|\n",
            "+-----------+---------+--------------------+----------+--------------------+--------------------+--------+-------------+\n",
            "only showing top 20 rows\n",
            "\n"
          ]
        }
      ],
      "source": [
        "emp_filtered.show()"
      ]
    },
    {
      "cell_type": "code",
      "execution_count": 20,
      "id": "f2f2cd75-8dde-43c7-a23c-8a2ed93e9ee0",
      "metadata": {
        "tags": [],
        "id": "f2f2cd75-8dde-43c7-a23c-8a2ed93e9ee0"
      },
      "outputs": [],
      "source": [
        "# Create a new column dob_year and register as temp view\n",
        "\n",
        "emp_temp = spark.sql(\"\"\"\n",
        "    select e.*, date_format(dob, 'yyyy') as dob_year from emp_view e\n",
        "\"\"\")\n"
      ]
    },
    {
      "cell_type": "code",
      "execution_count": 21,
      "id": "e9e546d0-fdb5-45b9-92ad-5204dccfd802",
      "metadata": {
        "tags": [],
        "id": "e9e546d0-fdb5-45b9-92ad-5204dccfd802"
      },
      "outputs": [],
      "source": [
        "emp_temp.createOrReplaceTempView(\"emp_temp_view\")"
      ]
    },
    {
      "cell_type": "code",
      "execution_count": 22,
      "id": "c534c1a5-9486-4bea-a242-893e7fc380aa",
      "metadata": {
        "tags": [],
        "colab": {
          "base_uri": "https://localhost:8080/"
        },
        "id": "c534c1a5-9486-4bea-a242-893e7fc380aa",
        "outputId": "479de171-0f66-4279-c019-075bd83170b6"
      },
      "outputs": [
        {
          "output_type": "stream",
          "name": "stdout",
          "text": [
            "+----------+----------+--------------------+----------+--------------------+--------------------+--------+-------------+--------+\n",
            "|first_name| last_name|           job_title|       dob|               email|               phone|  salary|department_id|dob_year|\n",
            "+----------+----------+--------------------+----------+--------------------+--------------------+--------+-------------+--------+\n",
            "|   Richard|  Morrison|Public relations ...|1973-05-05|melissagarcia@exa...|       (699)525-4827|512653.0|            8|    1973|\n",
            "|     Bobby|  Mccarthy|   Barrister's clerk|1974-04-25|   llara@example.net|  (750)846-1602x7458|999836.0|            7|    1974|\n",
            "|    Dennis|    Norman|Land/geomatics su...|1990-06-24| jturner@example.net|    873.820.0518x825|131900.0|           10|    1990|\n",
            "|      John|    Monroe|        Retail buyer|1968-06-16|  erik33@example.net|    820-813-0557x624|485506.0|            1|    1968|\n",
            "|  Michelle|   Elliott|      Air cabin crew|1975-03-31|tiffanyjohnston@e...|       (705)900-5337|604738.0|            8|    1975|\n",
            "|    Ashley|   Montoya|        Cartographer|1976-01-16|patrickalexandra@...|        211.440.5466|483339.0|            6|    1976|\n",
            "| Nathaniel|     Smith|     Quality manager|1985-06-28|  lori44@example.net|        936-403-3179|419644.0|            7|    1985|\n",
            "|     Faith|  Cummings|Industrial/produc...|1978-07-01| ygordon@example.org|       (889)246-5588|205939.0|            7|    1978|\n",
            "|  Margaret|    Sutton|Administrator, ed...|1975-08-16| diana44@example.net|001-647-530-5036x...|671167.0|            8|    1975|\n",
            "|      Mary|    Sutton|   Freight forwarder|1979-12-28|  ryan36@example.com|   422.562.7254x3159|993829.0|            7|    1979|\n",
            "|      Jake|      King|       Lexicographer|1994-07-11|monica93@example.org|+1-535-652-9715x6...|702101.0|            4|    1994|\n",
            "|   Heather|     Haley|         Music tutor|1981-06-01|stephanie65@examp...|   (652)815-7973x298|570960.0|            6|    1981|\n",
            "|    Thomas|    Thomas|Chartered managem...|2001-07-17|pwilliams@example...|001-245-848-0028x...|339441.0|            6|    2001|\n",
            "|   Leonard|   Carlson|       Art therapist|1990-10-18|gabrielmurray@exa...|          9247590563|469728.0|            8|    1990|\n",
            "|      Mark|      Wood|   Market researcher|1963-10-13|nicholas76@exampl...|   311.439.1606x3342|582291.0|            4|    1963|\n",
            "|    Tracey|Washington|Travel agency man...|1986-05-07|  mark07@example.com|    001-912-206-6456|146456.0|            4|    1986|\n",
            "|   Rachael| Rodriguez|         Media buyer|1966-12-02|griffinmary@examp...| +1-791-344-7586x548|544732.0|            1|    1966|\n",
            "|      Tara|       Liu|   Financial adviser|1998-10-12|alexandraobrien@e...|        216.696.6061|399503.0|            3|    1998|\n",
            "|       Ana|    Joseph|      Retail manager|1995-01-10|  rmorse@example.org|  (726)363-7526x9965|761988.0|           10|    1995|\n",
            "|   Richard|      Hall|Engineer, civil (...|1967-03-02|brandoncardenas@e...| (964)451-9007x22496|660659.0|            4|    1967|\n",
            "+----------+----------+--------------------+----------+--------------------+--------------------+--------+-------------+--------+\n",
            "only showing top 20 rows\n",
            "\n"
          ]
        }
      ],
      "source": [
        "spark.sql(\"select * from emp_temp_view\").show()"
      ]
    },
    {
      "cell_type": "code",
      "execution_count": 23,
      "id": "a7fd9877-fff9-4071-9fd8-8a8503fe3cd5",
      "metadata": {
        "tags": [],
        "id": "a7fd9877-fff9-4071-9fd8-8a8503fe3cd5"
      },
      "outputs": [],
      "source": [
        "# Join emp and dept - HINTs\n",
        "# The first query includes a hint /*+ BROADCAST(d) */,\n",
        "# which suggests to Spark that the dept_view table is small\n",
        "# and should be broadcast to all worker nodes for faster join execution.\n",
        "# The second query is the same join operation without the hint,\n",
        "# allowing Spark to decide the join strategy.\n",
        "\n",
        "\n",
        "\n",
        "# emp_final = spark.sql(\"\"\"\n",
        "#     select /*+ BROADCAST(d) */\n",
        "#     e.* , d.department_name\n",
        "#     from emp_view e left outer join dept_view d\n",
        "#     on e.department_id = d.department_id\n",
        "# \"\"\")\n",
        "\n",
        "\n",
        "emp_final = spark.sql(\"\"\"\n",
        "    select\n",
        "    e.* , d.department_name\n",
        "    from emp_view e left outer join dept_view d\n",
        "    on e.department_id = d.department_id\n",
        "\"\"\")"
      ]
    },
    {
      "cell_type": "code",
      "execution_count": 24,
      "id": "4954ee48-2beb-4380-a084-6a2f18a6dcb6",
      "metadata": {
        "tags": [],
        "colab": {
          "base_uri": "https://localhost:8080/"
        },
        "id": "4954ee48-2beb-4380-a084-6a2f18a6dcb6",
        "outputId": "38e67293-f595-4e0b-c3aa-935163acdafc"
      },
      "outputs": [
        {
          "output_type": "stream",
          "name": "stdout",
          "text": [
            "+----------+----------+--------------------+----------+--------------------+--------------------+--------+-------------+--------------------+\n",
            "|first_name| last_name|           job_title|       dob|               email|               phone|  salary|department_id|     department_name|\n",
            "+----------+----------+--------------------+----------+--------------------+--------------------+--------+-------------+--------------------+\n",
            "|   Richard|  Morrison|Public relations ...|1973-05-05|melissagarcia@exa...|       (699)525-4827|512653.0|            8|          Parker PLC|\n",
            "|     Bobby|  Mccarthy|   Barrister's clerk|1974-04-25|   llara@example.net|  (750)846-1602x7458|999836.0|            7|         Ward-Gordon|\n",
            "|    Dennis|    Norman|Land/geomatics su...|1990-06-24| jturner@example.net|    873.820.0518x825|131900.0|           10|      Delgado-Keller|\n",
            "|      John|    Monroe|        Retail buyer|1968-06-16|  erik33@example.net|    820-813-0557x624|485506.0|            1|         Bryan-James|\n",
            "|  Michelle|   Elliott|      Air cabin crew|1975-03-31|tiffanyjohnston@e...|       (705)900-5337|604738.0|            8|          Parker PLC|\n",
            "|    Ashley|   Montoya|        Cartographer|1976-01-16|patrickalexandra@...|        211.440.5466|483339.0|            6|         Sanders LLC|\n",
            "| Nathaniel|     Smith|     Quality manager|1985-06-28|  lori44@example.net|        936-403-3179|419644.0|            7|         Ward-Gordon|\n",
            "|     Faith|  Cummings|Industrial/produc...|1978-07-01| ygordon@example.org|       (889)246-5588|205939.0|            7|         Ward-Gordon|\n",
            "|  Margaret|    Sutton|Administrator, ed...|1975-08-16| diana44@example.net|001-647-530-5036x...|671167.0|            8|          Parker PLC|\n",
            "|      Mary|    Sutton|   Freight forwarder|1979-12-28|  ryan36@example.com|   422.562.7254x3159|993829.0|            7|         Ward-Gordon|\n",
            "|      Jake|      King|       Lexicographer|1994-07-11|monica93@example.org|+1-535-652-9715x6...|702101.0|            4|Smith, Snyder and...|\n",
            "|   Heather|     Haley|         Music tutor|1981-06-01|stephanie65@examp...|   (652)815-7973x298|570960.0|            6|         Sanders LLC|\n",
            "|    Thomas|    Thomas|Chartered managem...|2001-07-17|pwilliams@example...|001-245-848-0028x...|339441.0|            6|         Sanders LLC|\n",
            "|   Leonard|   Carlson|       Art therapist|1990-10-18|gabrielmurray@exa...|          9247590563|469728.0|            8|          Parker PLC|\n",
            "|      Mark|      Wood|   Market researcher|1963-10-13|nicholas76@exampl...|   311.439.1606x3342|582291.0|            4|Smith, Snyder and...|\n",
            "|    Tracey|Washington|Travel agency man...|1986-05-07|  mark07@example.com|    001-912-206-6456|146456.0|            4|Smith, Snyder and...|\n",
            "|   Rachael| Rodriguez|         Media buyer|1966-12-02|griffinmary@examp...| +1-791-344-7586x548|544732.0|            1|         Bryan-James|\n",
            "|      Tara|       Liu|   Financial adviser|1998-10-12|alexandraobrien@e...|        216.696.6061|399503.0|            3|Pittman, Hess and...|\n",
            "|       Ana|    Joseph|      Retail manager|1995-01-10|  rmorse@example.org|  (726)363-7526x9965|761988.0|           10|      Delgado-Keller|\n",
            "|   Richard|      Hall|Engineer, civil (...|1967-03-02|brandoncardenas@e...| (964)451-9007x22496|660659.0|            4|Smith, Snyder and...|\n",
            "+----------+----------+--------------------+----------+--------------------+--------------------+--------+-------------+--------------------+\n",
            "only showing top 20 rows\n",
            "\n"
          ]
        }
      ],
      "source": [
        "# Show emp data\n",
        "\n",
        "emp_final.show()"
      ]
    },
    {
      "cell_type": "code",
      "execution_count": 25,
      "id": "49a26f84-5631-4c24-814f-a6f28901d31d",
      "metadata": {
        "tags": [],
        "id": "49a26f84-5631-4c24-814f-a6f28901d31d"
      },
      "outputs": [],
      "source": [
        "# Write the data as Table\n",
        "\n",
        "emp_final.write.format(\"parquet\").saveAsTable(\"emp_final\")"
      ]
    },
    {
      "cell_type": "code",
      "execution_count": 26,
      "id": "4eb18a42-365f-42b3-a7a0-e10859029982",
      "metadata": {
        "tags": [],
        "id": "4eb18a42-365f-42b3-a7a0-e10859029982"
      },
      "outputs": [],
      "source": [
        "# Read the data from Table\n",
        "\n",
        "emp_new = spark.sql(\"select * from emp_final\")"
      ]
    },
    {
      "cell_type": "code",
      "execution_count": 27,
      "id": "1c990d0e-0993-44c6-8e9a-c204a1fabb3e",
      "metadata": {
        "tags": [],
        "colab": {
          "base_uri": "https://localhost:8080/"
        },
        "id": "1c990d0e-0993-44c6-8e9a-c204a1fabb3e",
        "outputId": "f5d05562-151b-4d9b-b664-116023051e15"
      },
      "outputs": [
        {
          "output_type": "stream",
          "name": "stdout",
          "text": [
            "+----------+----------+--------------------+----------+--------------------+--------------------+--------+-------------+--------------------+\n",
            "|first_name| last_name|           job_title|       dob|               email|               phone|  salary|department_id|     department_name|\n",
            "+----------+----------+--------------------+----------+--------------------+--------------------+--------+-------------+--------------------+\n",
            "|   Richard|  Morrison|Public relations ...|1973-05-05|melissagarcia@exa...|       (699)525-4827|512653.0|            8|          Parker PLC|\n",
            "|     Bobby|  Mccarthy|   Barrister's clerk|1974-04-25|   llara@example.net|  (750)846-1602x7458|999836.0|            7|         Ward-Gordon|\n",
            "|    Dennis|    Norman|Land/geomatics su...|1990-06-24| jturner@example.net|    873.820.0518x825|131900.0|           10|      Delgado-Keller|\n",
            "|      John|    Monroe|        Retail buyer|1968-06-16|  erik33@example.net|    820-813-0557x624|485506.0|            1|         Bryan-James|\n",
            "|  Michelle|   Elliott|      Air cabin crew|1975-03-31|tiffanyjohnston@e...|       (705)900-5337|604738.0|            8|          Parker PLC|\n",
            "|    Ashley|   Montoya|        Cartographer|1976-01-16|patrickalexandra@...|        211.440.5466|483339.0|            6|         Sanders LLC|\n",
            "| Nathaniel|     Smith|     Quality manager|1985-06-28|  lori44@example.net|        936-403-3179|419644.0|            7|         Ward-Gordon|\n",
            "|     Faith|  Cummings|Industrial/produc...|1978-07-01| ygordon@example.org|       (889)246-5588|205939.0|            7|         Ward-Gordon|\n",
            "|  Margaret|    Sutton|Administrator, ed...|1975-08-16| diana44@example.net|001-647-530-5036x...|671167.0|            8|          Parker PLC|\n",
            "|      Mary|    Sutton|   Freight forwarder|1979-12-28|  ryan36@example.com|   422.562.7254x3159|993829.0|            7|         Ward-Gordon|\n",
            "|      Jake|      King|       Lexicographer|1994-07-11|monica93@example.org|+1-535-652-9715x6...|702101.0|            4|Smith, Snyder and...|\n",
            "|   Heather|     Haley|         Music tutor|1981-06-01|stephanie65@examp...|   (652)815-7973x298|570960.0|            6|         Sanders LLC|\n",
            "|    Thomas|    Thomas|Chartered managem...|2001-07-17|pwilliams@example...|001-245-848-0028x...|339441.0|            6|         Sanders LLC|\n",
            "|   Leonard|   Carlson|       Art therapist|1990-10-18|gabrielmurray@exa...|          9247590563|469728.0|            8|          Parker PLC|\n",
            "|      Mark|      Wood|   Market researcher|1963-10-13|nicholas76@exampl...|   311.439.1606x3342|582291.0|            4|Smith, Snyder and...|\n",
            "|    Tracey|Washington|Travel agency man...|1986-05-07|  mark07@example.com|    001-912-206-6456|146456.0|            4|Smith, Snyder and...|\n",
            "|   Rachael| Rodriguez|         Media buyer|1966-12-02|griffinmary@examp...| +1-791-344-7586x548|544732.0|            1|         Bryan-James|\n",
            "|      Tara|       Liu|   Financial adviser|1998-10-12|alexandraobrien@e...|        216.696.6061|399503.0|            3|Pittman, Hess and...|\n",
            "|       Ana|    Joseph|      Retail manager|1995-01-10|  rmorse@example.org|  (726)363-7526x9965|761988.0|           10|      Delgado-Keller|\n",
            "|   Richard|      Hall|Engineer, civil (...|1967-03-02|brandoncardenas@e...| (964)451-9007x22496|660659.0|            4|Smith, Snyder and...|\n",
            "+----------+----------+--------------------+----------+--------------------+--------------------+--------+-------------+--------------------+\n",
            "only showing top 20 rows\n",
            "\n"
          ]
        }
      ],
      "source": [
        "emp_new.show()"
      ]
    },
    {
      "cell_type": "code",
      "execution_count": 28,
      "id": "1d8d21ad-c3ca-40e5-8f69-0d144f25c2bb",
      "metadata": {
        "id": "1d8d21ad-c3ca-40e5-8f69-0d144f25c2bb"
      },
      "outputs": [],
      "source": [
        "# Persist metadata\n",
        "\n"
      ]
    },
    {
      "cell_type": "code",
      "execution_count": 29,
      "id": "4328da47-4070-47bf-b223-7309d0366f90",
      "metadata": {
        "tags": [],
        "colab": {
          "base_uri": "https://localhost:8080/"
        },
        "id": "4328da47-4070-47bf-b223-7309d0366f90",
        "outputId": "378a6932-7ed4-44c3-d673-4ca78721c96e"
      },
      "outputs": [
        {
          "output_type": "stream",
          "name": "stdout",
          "text": [
            "+--------------------+--------------------+-------+\n",
            "|            col_name|           data_type|comment|\n",
            "+--------------------+--------------------+-------+\n",
            "|          first_name|              string|   NULL|\n",
            "|           last_name|              string|   NULL|\n",
            "|           job_title|              string|   NULL|\n",
            "|                 dob|              string|   NULL|\n",
            "|               email|              string|   NULL|\n",
            "|               phone|              string|   NULL|\n",
            "|              salary|              double|   NULL|\n",
            "|       department_id|                 int|   NULL|\n",
            "|     department_name|              string|   NULL|\n",
            "|                    |                    |       |\n",
            "|# Detailed Table ...|                    |       |\n",
            "|             Catalog|       spark_catalog|       |\n",
            "|            Database|             default|       |\n",
            "|               Table|           emp_final|       |\n",
            "|               Owner|                root|       |\n",
            "|        Created Time|Thu Aug 14 20:21:...|       |\n",
            "|         Last Access|             UNKNOWN|       |\n",
            "|          Created By|         Spark 3.5.1|       |\n",
            "|                Type|             MANAGED|       |\n",
            "|            Provider|             parquet|       |\n",
            "+--------------------+--------------------+-------+\n",
            "only showing top 20 rows\n",
            "\n"
          ]
        }
      ],
      "source": [
        "# Show details of metadata\n",
        "\n",
        "spark.sql(\"describe extended emp_final\").show()"
      ]
    },
    {
      "cell_type": "code",
      "execution_count": null,
      "id": "b5551a20-897b-4032-be33-1445d75b5078",
      "metadata": {
        "id": "b5551a20-897b-4032-be33-1445d75b5078"
      },
      "outputs": [],
      "source": []
    }
  ],
  "metadata": {
    "kernelspec": {
      "display_name": "Python 3 (ipykernel)",
      "language": "python",
      "name": "python3"
    },
    "language_info": {
      "codemirror_mode": {
        "name": "ipython",
        "version": 3
      },
      "file_extension": ".py",
      "mimetype": "text/x-python",
      "name": "python",
      "nbconvert_exporter": "python",
      "pygments_lexer": "ipython3",
      "version": "3.7.10"
    },
    "colab": {
      "provenance": [],
      "include_colab_link": true
    }
  },
  "nbformat": 4,
  "nbformat_minor": 5
}
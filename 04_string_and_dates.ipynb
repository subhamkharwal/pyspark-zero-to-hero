{
  "cells": [
    {
      "cell_type": "markdown",
      "metadata": {
        "id": "view-in-github",
        "colab_type": "text"
      },
      "source": [
        "<a href=\"https://colab.research.google.com/github/ammfat/pyspark-zero-to-hero/blob/colab/04_string_and_dates.ipynb\" target=\"_parent\"><img src=\"https://colab.research.google.com/assets/colab-badge.svg\" alt=\"Open In Colab\"/></a>"
      ]
    },
    {
      "cell_type": "code",
      "execution_count": 23,
      "id": "9913130b-9ed3-4a87-a01d-a13cae0e3204",
      "metadata": {
        "id": "9913130b-9ed3-4a87-a01d-a13cae0e3204",
        "outputId": "005ec266-5b62-468a-d8ca-fc0222a2f51d",
        "colab": {
          "base_uri": "https://localhost:8080/",
          "height": 219
        }
      },
      "outputs": [
        {
          "output_type": "execute_result",
          "data": {
            "text/plain": [
              "<pyspark.sql.session.SparkSession at 0x7960beb31fd0>"
            ],
            "text/html": [
              "\n",
              "            <div>\n",
              "                <p><b>SparkSession - in-memory</b></p>\n",
              "                \n",
              "        <div>\n",
              "            <p><b>SparkContext</b></p>\n",
              "\n",
              "            <p><a href=\"http://0fe443fc0d0a:4040\">Spark UI</a></p>\n",
              "\n",
              "            <dl>\n",
              "              <dt>Version</dt>\n",
              "                <dd><code>v3.5.1</code></dd>\n",
              "              <dt>Master</dt>\n",
              "                <dd><code>local[*]</code></dd>\n",
              "              <dt>AppName</dt>\n",
              "                <dd><code>Working with Strings & Dates</code></dd>\n",
              "            </dl>\n",
              "        </div>\n",
              "        \n",
              "            </div>\n",
              "        "
            ]
          },
          "metadata": {},
          "execution_count": 23
        }
      ],
      "source": [
        "# Spark Session\n",
        "from pyspark.sql import SparkSession\n",
        "\n",
        "spark = (\n",
        "    SparkSession\n",
        "    .builder\n",
        "    .appName(\"Working with Strings & Dates\")\n",
        "    .master(\"local[*]\")\n",
        "    .getOrCreate()\n",
        ")\n",
        "\n",
        "spark"
      ]
    },
    {
      "cell_type": "code",
      "execution_count": 24,
      "id": "7f6357c0-ccf8-43de-8f7d-69d5a9314fef",
      "metadata": {
        "id": "7f6357c0-ccf8-43de-8f7d-69d5a9314fef"
      },
      "outputs": [],
      "source": [
        "# Emp Data & Schema\n",
        "\n",
        "emp_data = [\n",
        "    [\"001\",\"101\",\"John Doe\",\"30\",\"Male\",\"50000\",\"2015-01-01\"],\n",
        "    [\"002\",\"101\",\"Jane Smith\",\"25\",\"Female\",\"45000\",\"2016-02-15\"],\n",
        "    [\"003\",\"102\",\"Bob Brown\",\"35\",\"Male\",\"55000\",\"2014-05-01\"],\n",
        "    [\"004\",\"102\",\"Alice Lee\",\"28\",\"Female\",\"48000\",\"2017-09-30\"],\n",
        "    [\"005\",\"103\",\"Jack Chan\",\"40\",\"Male\",\"60000\",\"2013-04-01\"],\n",
        "    [\"006\",\"103\",\"Jill Wong\",\"32\",\"Female\",\"52000\",\"2018-07-01\"],\n",
        "    [\"007\",\"101\",\"James Johnson\",\"42\",\"Male\",\"70000\",\"2012-03-15\"],\n",
        "    [\"008\",\"102\",\"Kate Kim\",\"29\",\"Female\",\"51000\",\"2019-10-01\"],\n",
        "    [\"009\",\"103\",\"Tom Tan\",\"33\",\"Male\",\"58000\",\"2016-06-01\"],\n",
        "    [\"010\",\"104\",\"Lisa Lee\",\"27\",\"Female\",\"47000\",\"2018-08-01\"],\n",
        "    [\"011\",\"104\",\"David Park\",\"38\",\"Male\",\"65000\",\"2015-11-01\"],\n",
        "    [\"012\",\"105\",\"Susan Chen\",\"31\",\"Female\",\"54000\",\"2017-02-15\"],\n",
        "    [\"013\",\"106\",\"Brian Kim\",\"45\",\"Male\",\"75000\",\"2011-07-01\"],\n",
        "    [\"014\",\"107\",\"Emily Lee\",\"26\",\"Female\",\"46000\",\"2019-01-01\"],\n",
        "    [\"015\",\"106\",\"Michael Lee\",\"37\",\"Male\",\"63000\",\"2014-09-30\"],\n",
        "    [\"016\",\"107\",\"Kelly Zhang\",\"30\",\"Female\",\"49000\",\"2018-04-01\"],\n",
        "    [\"017\",\"105\",\"George Wang\",\"34\",\"Male\",\"57000\",\"2016-03-15\"],\n",
        "    [\"018\",\"104\",\"Nancy Liu\",\"29\",\"\",\"50000\",\"2017-06-01\"],\n",
        "    [\"019\",\"103\",\"Steven Chen\",\"36\",\"Male\",\"62000\",\"2015-08-01\"],\n",
        "    [\"020\",\"102\",\"Grace Kim\",\"32\",\"Female\",\"53000\",\"2018-11-01\"]\n",
        "]\n",
        "\n",
        "emp_schema = \"employee_id string, department_id string, name string, age string, gender string, salary string, hire_date string\""
      ]
    },
    {
      "cell_type": "code",
      "execution_count": 25,
      "id": "9bdc19a5-b213-498e-8e1f-63650523c441",
      "metadata": {
        "id": "9bdc19a5-b213-498e-8e1f-63650523c441"
      },
      "outputs": [],
      "source": [
        "# Create emp DataFrame\n",
        "\n",
        "emp = spark.createDataFrame(data=emp_data, schema=emp_schema)"
      ]
    },
    {
      "cell_type": "code",
      "execution_count": 26,
      "id": "9d81001d-2633-439f-9153-9b1ef27e64a8",
      "metadata": {
        "id": "9d81001d-2633-439f-9153-9b1ef27e64a8",
        "outputId": "348e71cf-d1be-4b66-c0af-08389a64d9fe",
        "colab": {
          "base_uri": "https://localhost:8080/"
        }
      },
      "outputs": [
        {
          "output_type": "stream",
          "name": "stdout",
          "text": [
            "+-----------+-------------+-------------+---+------+------+----------+\n",
            "|employee_id|department_id|         name|age|gender|salary| hire_date|\n",
            "+-----------+-------------+-------------+---+------+------+----------+\n",
            "|        001|          101|     John Doe| 30|  Male| 50000|2015-01-01|\n",
            "|        002|          101|   Jane Smith| 25|Female| 45000|2016-02-15|\n",
            "|        003|          102|    Bob Brown| 35|  Male| 55000|2014-05-01|\n",
            "|        004|          102|    Alice Lee| 28|Female| 48000|2017-09-30|\n",
            "|        005|          103|    Jack Chan| 40|  Male| 60000|2013-04-01|\n",
            "|        006|          103|    Jill Wong| 32|Female| 52000|2018-07-01|\n",
            "|        007|          101|James Johnson| 42|  Male| 70000|2012-03-15|\n",
            "|        008|          102|     Kate Kim| 29|Female| 51000|2019-10-01|\n",
            "|        009|          103|      Tom Tan| 33|  Male| 58000|2016-06-01|\n",
            "|        010|          104|     Lisa Lee| 27|Female| 47000|2018-08-01|\n",
            "|        011|          104|   David Park| 38|  Male| 65000|2015-11-01|\n",
            "|        012|          105|   Susan Chen| 31|Female| 54000|2017-02-15|\n",
            "|        013|          106|    Brian Kim| 45|  Male| 75000|2011-07-01|\n",
            "|        014|          107|    Emily Lee| 26|Female| 46000|2019-01-01|\n",
            "|        015|          106|  Michael Lee| 37|  Male| 63000|2014-09-30|\n",
            "|        016|          107|  Kelly Zhang| 30|Female| 49000|2018-04-01|\n",
            "|        017|          105|  George Wang| 34|  Male| 57000|2016-03-15|\n",
            "|        018|          104|    Nancy Liu| 29|      | 50000|2017-06-01|\n",
            "|        019|          103|  Steven Chen| 36|  Male| 62000|2015-08-01|\n",
            "|        020|          102|    Grace Kim| 32|Female| 53000|2018-11-01|\n",
            "+-----------+-------------+-------------+---+------+------+----------+\n",
            "\n"
          ]
        }
      ],
      "source": [
        "# Show emp dataframe (ACTION)\n",
        "\n",
        "emp.show()"
      ]
    },
    {
      "cell_type": "code",
      "execution_count": 27,
      "id": "d340333a-1ff1-4b60-a602-6342a056cf3a",
      "metadata": {
        "id": "d340333a-1ff1-4b60-a602-6342a056cf3a",
        "outputId": "9c6a6d29-1ae9-46f4-c3ae-d20cef73fb7c",
        "colab": {
          "base_uri": "https://localhost:8080/"
        }
      },
      "outputs": [
        {
          "output_type": "stream",
          "name": "stdout",
          "text": [
            "root\n",
            " |-- employee_id: string (nullable = true)\n",
            " |-- department_id: string (nullable = true)\n",
            " |-- name: string (nullable = true)\n",
            " |-- age: string (nullable = true)\n",
            " |-- gender: string (nullable = true)\n",
            " |-- salary: string (nullable = true)\n",
            " |-- hire_date: string (nullable = true)\n",
            "\n"
          ]
        }
      ],
      "source": [
        "# Print Schema\n",
        "\n",
        "emp.printSchema()"
      ]
    },
    {
      "cell_type": "code",
      "execution_count": 28,
      "id": "6b99ead2-9509-43b0-83e9-a8f1eaebffe9",
      "metadata": {
        "id": "6b99ead2-9509-43b0-83e9-a8f1eaebffe9"
      },
      "outputs": [],
      "source": [
        "# Case When\n",
        "# select employee_id, name, age, salary, gender,\n",
        "# case when gender = 'Male' then 'M' when gender = 'Female' then 'F' else null end as new_gender, hire_date from emp\n",
        "from pyspark.sql.functions import when, col, expr\n",
        "\n",
        "emp_gender_fixed = emp.withColumn(\"new_gender\", when(col(\"gender\") == 'Male', 'M')\n",
        "                                 .when(col(\"gender\") == 'Female', 'F')\n",
        "                                 .otherwise(None)\n",
        "                                 )\n",
        "\n",
        "emp_gender_fixed_1 = emp.withColumn(\"new_gender\", expr(\"case when gender = 'Male' then 'M' when gender = 'Female' then 'F' else null end\"))"
      ]
    },
    {
      "cell_type": "code",
      "execution_count": 29,
      "id": "9eeb53b0-ff7f-4e0e-85ca-fef8ef15ac22",
      "metadata": {
        "id": "9eeb53b0-ff7f-4e0e-85ca-fef8ef15ac22",
        "outputId": "7410fe5e-55b1-4362-b2b6-cde5b77b0b96",
        "colab": {
          "base_uri": "https://localhost:8080/"
        }
      },
      "outputs": [
        {
          "output_type": "stream",
          "name": "stdout",
          "text": [
            "+-----------+-------------+-------------+---+------+------+----------+----------+\n",
            "|employee_id|department_id|         name|age|gender|salary| hire_date|new_gender|\n",
            "+-----------+-------------+-------------+---+------+------+----------+----------+\n",
            "|        001|          101|     John Doe| 30|  Male| 50000|2015-01-01|         M|\n",
            "|        002|          101|   Jane Smith| 25|Female| 45000|2016-02-15|         F|\n",
            "|        003|          102|    Bob Brown| 35|  Male| 55000|2014-05-01|         M|\n",
            "|        004|          102|    Alice Lee| 28|Female| 48000|2017-09-30|         F|\n",
            "|        005|          103|    Jack Chan| 40|  Male| 60000|2013-04-01|         M|\n",
            "|        006|          103|    Jill Wong| 32|Female| 52000|2018-07-01|         F|\n",
            "|        007|          101|James Johnson| 42|  Male| 70000|2012-03-15|         M|\n",
            "|        008|          102|     Kate Kim| 29|Female| 51000|2019-10-01|         F|\n",
            "|        009|          103|      Tom Tan| 33|  Male| 58000|2016-06-01|         M|\n",
            "|        010|          104|     Lisa Lee| 27|Female| 47000|2018-08-01|         F|\n",
            "|        011|          104|   David Park| 38|  Male| 65000|2015-11-01|         M|\n",
            "|        012|          105|   Susan Chen| 31|Female| 54000|2017-02-15|         F|\n",
            "|        013|          106|    Brian Kim| 45|  Male| 75000|2011-07-01|         M|\n",
            "|        014|          107|    Emily Lee| 26|Female| 46000|2019-01-01|         F|\n",
            "|        015|          106|  Michael Lee| 37|  Male| 63000|2014-09-30|         M|\n",
            "|        016|          107|  Kelly Zhang| 30|Female| 49000|2018-04-01|         F|\n",
            "|        017|          105|  George Wang| 34|  Male| 57000|2016-03-15|         M|\n",
            "|        018|          104|    Nancy Liu| 29|      | 50000|2017-06-01|      NULL|\n",
            "|        019|          103|  Steven Chen| 36|  Male| 62000|2015-08-01|         M|\n",
            "|        020|          102|    Grace Kim| 32|Female| 53000|2018-11-01|         F|\n",
            "+-----------+-------------+-------------+---+------+------+----------+----------+\n",
            "\n"
          ]
        }
      ],
      "source": [
        "emp_gender_fixed_1.show()"
      ]
    },
    {
      "cell_type": "code",
      "execution_count": 30,
      "id": "40e8d717-c449-42f4-a3e3-6bff56077b6b",
      "metadata": {
        "id": "40e8d717-c449-42f4-a3e3-6bff56077b6b"
      },
      "outputs": [],
      "source": [
        "# Replace in Strings\n",
        "# select employee_id, name, replace(name, 'J', 'Z') as new_name, age, salary, gender, new_gender, hire_date from emp_gender_fixed\n",
        "from pyspark.sql.functions import regexp_replace\n",
        "\n",
        "emp_name_fixed = emp_gender_fixed.withColumn(\"new_name\", regexp_replace(col(\"name\"), \"J\", \"Z\"))\n"
      ]
    },
    {
      "cell_type": "code",
      "execution_count": 31,
      "id": "1ef03a22-a05f-40f6-8134-9e555b0871b3",
      "metadata": {
        "id": "1ef03a22-a05f-40f6-8134-9e555b0871b3",
        "outputId": "6aaf1d05-bcd7-4733-d908-210946312d1e",
        "colab": {
          "base_uri": "https://localhost:8080/"
        }
      },
      "outputs": [
        {
          "output_type": "stream",
          "name": "stdout",
          "text": [
            "+-----------+-------------+-------------+---+------+------+----------+----------+-------------+\n",
            "|employee_id|department_id|         name|age|gender|salary| hire_date|new_gender|     new_name|\n",
            "+-----------+-------------+-------------+---+------+------+----------+----------+-------------+\n",
            "|        001|          101|     John Doe| 30|  Male| 50000|2015-01-01|         M|     Zohn Doe|\n",
            "|        002|          101|   Jane Smith| 25|Female| 45000|2016-02-15|         F|   Zane Smith|\n",
            "|        003|          102|    Bob Brown| 35|  Male| 55000|2014-05-01|         M|    Bob Brown|\n",
            "|        004|          102|    Alice Lee| 28|Female| 48000|2017-09-30|         F|    Alice Lee|\n",
            "|        005|          103|    Jack Chan| 40|  Male| 60000|2013-04-01|         M|    Zack Chan|\n",
            "|        006|          103|    Jill Wong| 32|Female| 52000|2018-07-01|         F|    Zill Wong|\n",
            "|        007|          101|James Johnson| 42|  Male| 70000|2012-03-15|         M|Zames Zohnson|\n",
            "|        008|          102|     Kate Kim| 29|Female| 51000|2019-10-01|         F|     Kate Kim|\n",
            "|        009|          103|      Tom Tan| 33|  Male| 58000|2016-06-01|         M|      Tom Tan|\n",
            "|        010|          104|     Lisa Lee| 27|Female| 47000|2018-08-01|         F|     Lisa Lee|\n",
            "|        011|          104|   David Park| 38|  Male| 65000|2015-11-01|         M|   David Park|\n",
            "|        012|          105|   Susan Chen| 31|Female| 54000|2017-02-15|         F|   Susan Chen|\n",
            "|        013|          106|    Brian Kim| 45|  Male| 75000|2011-07-01|         M|    Brian Kim|\n",
            "|        014|          107|    Emily Lee| 26|Female| 46000|2019-01-01|         F|    Emily Lee|\n",
            "|        015|          106|  Michael Lee| 37|  Male| 63000|2014-09-30|         M|  Michael Lee|\n",
            "|        016|          107|  Kelly Zhang| 30|Female| 49000|2018-04-01|         F|  Kelly Zhang|\n",
            "|        017|          105|  George Wang| 34|  Male| 57000|2016-03-15|         M|  George Wang|\n",
            "|        018|          104|    Nancy Liu| 29|      | 50000|2017-06-01|      NULL|    Nancy Liu|\n",
            "|        019|          103|  Steven Chen| 36|  Male| 62000|2015-08-01|         M|  Steven Chen|\n",
            "|        020|          102|    Grace Kim| 32|Female| 53000|2018-11-01|         F|    Grace Kim|\n",
            "+-----------+-------------+-------------+---+------+------+----------+----------+-------------+\n",
            "\n"
          ]
        }
      ],
      "source": [
        "emp_name_fixed.show()"
      ]
    },
    {
      "cell_type": "code",
      "execution_count": 32,
      "id": "ae92a9a3-dd82-41b0-ae7d-bbb341371bb2",
      "metadata": {
        "id": "ae92a9a3-dd82-41b0-ae7d-bbb341371bb2"
      },
      "outputs": [],
      "source": [
        "# Convert Date\n",
        "# select *,  to_date(hire_date, 'YYYY-MM-DD') as hire_date from emp_name_fixed\n",
        "from pyspark.sql.functions import to_date\n",
        "\n",
        "emp_date_fix = emp_name_fixed.withColumn(\"hire_date\", to_date(col(\"hire_date\"), 'yyyy-MM-dd'))\n"
      ]
    },
    {
      "cell_type": "code",
      "execution_count": 33,
      "id": "e3bc6295-4e8f-44a4-8baf-e45f1739248b",
      "metadata": {
        "id": "e3bc6295-4e8f-44a4-8baf-e45f1739248b",
        "outputId": "47b637a6-797b-44c0-f39e-ec4aeeb77a76",
        "colab": {
          "base_uri": "https://localhost:8080/"
        }
      },
      "outputs": [
        {
          "output_type": "stream",
          "name": "stdout",
          "text": [
            "root\n",
            " |-- employee_id: string (nullable = true)\n",
            " |-- department_id: string (nullable = true)\n",
            " |-- name: string (nullable = true)\n",
            " |-- age: string (nullable = true)\n",
            " |-- gender: string (nullable = true)\n",
            " |-- salary: string (nullable = true)\n",
            " |-- hire_date: date (nullable = true)\n",
            " |-- new_gender: string (nullable = true)\n",
            " |-- new_name: string (nullable = true)\n",
            "\n"
          ]
        }
      ],
      "source": [
        "emp_date_fix.printSchema()"
      ]
    },
    {
      "cell_type": "code",
      "execution_count": 34,
      "id": "f5a249be-bfab-4bde-ae61-eb6782660b49",
      "metadata": {
        "id": "f5a249be-bfab-4bde-ae61-eb6782660b49"
      },
      "outputs": [],
      "source": [
        "# Add Date Columns\n",
        "# Add current_date, current_timestamp, extract year from hire_date\n",
        "from pyspark.sql.functions import current_date, current_timestamp\n",
        "\n",
        "emp_dated = emp_date_fix.withColumn(\"date_now\", current_date()).withColumn(\"timestamp_now\", current_timestamp())\n"
      ]
    },
    {
      "cell_type": "code",
      "execution_count": 35,
      "id": "e590c9bb-3519-4511-921b-e851f385deda",
      "metadata": {
        "id": "e590c9bb-3519-4511-921b-e851f385deda",
        "outputId": "3134be13-21e8-425e-8b34-119c366982be",
        "colab": {
          "base_uri": "https://localhost:8080/"
        }
      },
      "outputs": [
        {
          "output_type": "stream",
          "name": "stdout",
          "text": [
            "+-----------+-------------+-------------+---+------+------+----------+----------+-------------+----------+--------------------------+\n",
            "|employee_id|department_id|name         |age|gender|salary|hire_date |new_gender|new_name     |date_now  |timestamp_now             |\n",
            "+-----------+-------------+-------------+---+------+------+----------+----------+-------------+----------+--------------------------+\n",
            "|001        |101          |John Doe     |30 |Male  |50000 |2015-01-01|M         |Zohn Doe     |2025-08-14|2025-08-14 19:39:36.683717|\n",
            "|002        |101          |Jane Smith   |25 |Female|45000 |2016-02-15|F         |Zane Smith   |2025-08-14|2025-08-14 19:39:36.683717|\n",
            "|003        |102          |Bob Brown    |35 |Male  |55000 |2014-05-01|M         |Bob Brown    |2025-08-14|2025-08-14 19:39:36.683717|\n",
            "|004        |102          |Alice Lee    |28 |Female|48000 |2017-09-30|F         |Alice Lee    |2025-08-14|2025-08-14 19:39:36.683717|\n",
            "|005        |103          |Jack Chan    |40 |Male  |60000 |2013-04-01|M         |Zack Chan    |2025-08-14|2025-08-14 19:39:36.683717|\n",
            "|006        |103          |Jill Wong    |32 |Female|52000 |2018-07-01|F         |Zill Wong    |2025-08-14|2025-08-14 19:39:36.683717|\n",
            "|007        |101          |James Johnson|42 |Male  |70000 |2012-03-15|M         |Zames Zohnson|2025-08-14|2025-08-14 19:39:36.683717|\n",
            "|008        |102          |Kate Kim     |29 |Female|51000 |2019-10-01|F         |Kate Kim     |2025-08-14|2025-08-14 19:39:36.683717|\n",
            "|009        |103          |Tom Tan      |33 |Male  |58000 |2016-06-01|M         |Tom Tan      |2025-08-14|2025-08-14 19:39:36.683717|\n",
            "|010        |104          |Lisa Lee     |27 |Female|47000 |2018-08-01|F         |Lisa Lee     |2025-08-14|2025-08-14 19:39:36.683717|\n",
            "|011        |104          |David Park   |38 |Male  |65000 |2015-11-01|M         |David Park   |2025-08-14|2025-08-14 19:39:36.683717|\n",
            "|012        |105          |Susan Chen   |31 |Female|54000 |2017-02-15|F         |Susan Chen   |2025-08-14|2025-08-14 19:39:36.683717|\n",
            "|013        |106          |Brian Kim    |45 |Male  |75000 |2011-07-01|M         |Brian Kim    |2025-08-14|2025-08-14 19:39:36.683717|\n",
            "|014        |107          |Emily Lee    |26 |Female|46000 |2019-01-01|F         |Emily Lee    |2025-08-14|2025-08-14 19:39:36.683717|\n",
            "|015        |106          |Michael Lee  |37 |Male  |63000 |2014-09-30|M         |Michael Lee  |2025-08-14|2025-08-14 19:39:36.683717|\n",
            "|016        |107          |Kelly Zhang  |30 |Female|49000 |2018-04-01|F         |Kelly Zhang  |2025-08-14|2025-08-14 19:39:36.683717|\n",
            "|017        |105          |George Wang  |34 |Male  |57000 |2016-03-15|M         |George Wang  |2025-08-14|2025-08-14 19:39:36.683717|\n",
            "|018        |104          |Nancy Liu    |29 |      |50000 |2017-06-01|NULL      |Nancy Liu    |2025-08-14|2025-08-14 19:39:36.683717|\n",
            "|019        |103          |Steven Chen  |36 |Male  |62000 |2015-08-01|M         |Steven Chen  |2025-08-14|2025-08-14 19:39:36.683717|\n",
            "|020        |102          |Grace Kim    |32 |Female|53000 |2018-11-01|F         |Grace Kim    |2025-08-14|2025-08-14 19:39:36.683717|\n",
            "+-----------+-------------+-------------+---+------+------+----------+----------+-------------+----------+--------------------------+\n",
            "\n"
          ]
        }
      ],
      "source": [
        "emp_dated.show(truncate=False)"
      ]
    },
    {
      "cell_type": "code",
      "execution_count": 36,
      "id": "34d9762b-d677-44ff-8312-fe4945a355c6",
      "metadata": {
        "id": "34d9762b-d677-44ff-8312-fe4945a355c6"
      },
      "outputs": [],
      "source": [
        "# Drop Null gender records\n",
        "emp_1 = emp_dated.na.drop()\n"
      ]
    },
    {
      "cell_type": "code",
      "execution_count": 37,
      "id": "26133dfa-1af2-4b36-9a81-86a4df944581",
      "metadata": {
        "id": "26133dfa-1af2-4b36-9a81-86a4df944581",
        "outputId": "e2eb5c54-6e24-475d-c21e-743e82ffa05e",
        "colab": {
          "base_uri": "https://localhost:8080/"
        }
      },
      "outputs": [
        {
          "output_type": "stream",
          "name": "stdout",
          "text": [
            "+-----------+-------------+-------------+---+------+------+----------+----------+-------------+----------+--------------------+\n",
            "|employee_id|department_id|         name|age|gender|salary| hire_date|new_gender|     new_name|  date_now|       timestamp_now|\n",
            "+-----------+-------------+-------------+---+------+------+----------+----------+-------------+----------+--------------------+\n",
            "|        001|          101|     John Doe| 30|  Male| 50000|2015-01-01|         M|     Zohn Doe|2025-08-14|2025-08-14 19:39:...|\n",
            "|        002|          101|   Jane Smith| 25|Female| 45000|2016-02-15|         F|   Zane Smith|2025-08-14|2025-08-14 19:39:...|\n",
            "|        003|          102|    Bob Brown| 35|  Male| 55000|2014-05-01|         M|    Bob Brown|2025-08-14|2025-08-14 19:39:...|\n",
            "|        004|          102|    Alice Lee| 28|Female| 48000|2017-09-30|         F|    Alice Lee|2025-08-14|2025-08-14 19:39:...|\n",
            "|        005|          103|    Jack Chan| 40|  Male| 60000|2013-04-01|         M|    Zack Chan|2025-08-14|2025-08-14 19:39:...|\n",
            "|        006|          103|    Jill Wong| 32|Female| 52000|2018-07-01|         F|    Zill Wong|2025-08-14|2025-08-14 19:39:...|\n",
            "|        007|          101|James Johnson| 42|  Male| 70000|2012-03-15|         M|Zames Zohnson|2025-08-14|2025-08-14 19:39:...|\n",
            "|        008|          102|     Kate Kim| 29|Female| 51000|2019-10-01|         F|     Kate Kim|2025-08-14|2025-08-14 19:39:...|\n",
            "|        009|          103|      Tom Tan| 33|  Male| 58000|2016-06-01|         M|      Tom Tan|2025-08-14|2025-08-14 19:39:...|\n",
            "|        010|          104|     Lisa Lee| 27|Female| 47000|2018-08-01|         F|     Lisa Lee|2025-08-14|2025-08-14 19:39:...|\n",
            "|        011|          104|   David Park| 38|  Male| 65000|2015-11-01|         M|   David Park|2025-08-14|2025-08-14 19:39:...|\n",
            "|        012|          105|   Susan Chen| 31|Female| 54000|2017-02-15|         F|   Susan Chen|2025-08-14|2025-08-14 19:39:...|\n",
            "|        013|          106|    Brian Kim| 45|  Male| 75000|2011-07-01|         M|    Brian Kim|2025-08-14|2025-08-14 19:39:...|\n",
            "|        014|          107|    Emily Lee| 26|Female| 46000|2019-01-01|         F|    Emily Lee|2025-08-14|2025-08-14 19:39:...|\n",
            "|        015|          106|  Michael Lee| 37|  Male| 63000|2014-09-30|         M|  Michael Lee|2025-08-14|2025-08-14 19:39:...|\n",
            "|        016|          107|  Kelly Zhang| 30|Female| 49000|2018-04-01|         F|  Kelly Zhang|2025-08-14|2025-08-14 19:39:...|\n",
            "|        017|          105|  George Wang| 34|  Male| 57000|2016-03-15|         M|  George Wang|2025-08-14|2025-08-14 19:39:...|\n",
            "|        019|          103|  Steven Chen| 36|  Male| 62000|2015-08-01|         M|  Steven Chen|2025-08-14|2025-08-14 19:39:...|\n",
            "|        020|          102|    Grace Kim| 32|Female| 53000|2018-11-01|         F|    Grace Kim|2025-08-14|2025-08-14 19:39:...|\n",
            "+-----------+-------------+-------------+---+------+------+----------+----------+-------------+----------+--------------------+\n",
            "\n"
          ]
        }
      ],
      "source": [
        "emp_1.show()"
      ]
    },
    {
      "cell_type": "code",
      "execution_count": 38,
      "id": "ae885c86-5d7a-4744-8ea7-d16849e68eea",
      "metadata": {
        "id": "ae885c86-5d7a-4744-8ea7-d16849e68eea"
      },
      "outputs": [],
      "source": [
        "# Fix Null values\n",
        "# select *, nvl('new_gender', 'O') as new_gender from emp_dated\n",
        "from pyspark.sql.functions import coalesce, lit\n",
        "\n",
        "emp_null_df = emp_dated.withColumn(\"new_gender\", coalesce(col(\"new_gender\"), lit(\"O\")))\n"
      ]
    },
    {
      "cell_type": "code",
      "execution_count": 39,
      "id": "7446c5fa-7512-40b6-a8fa-653b3f8c7df1",
      "metadata": {
        "id": "7446c5fa-7512-40b6-a8fa-653b3f8c7df1",
        "outputId": "bfcdd5af-e781-48c1-8bc4-434267ed082f",
        "colab": {
          "base_uri": "https://localhost:8080/"
        }
      },
      "outputs": [
        {
          "output_type": "stream",
          "name": "stdout",
          "text": [
            "+-----------+-------------+-------------+---+------+------+----------+----------+-------------+----------+--------------------+\n",
            "|employee_id|department_id|         name|age|gender|salary| hire_date|new_gender|     new_name|  date_now|       timestamp_now|\n",
            "+-----------+-------------+-------------+---+------+------+----------+----------+-------------+----------+--------------------+\n",
            "|        001|          101|     John Doe| 30|  Male| 50000|2015-01-01|         M|     Zohn Doe|2025-08-14|2025-08-14 19:39:...|\n",
            "|        002|          101|   Jane Smith| 25|Female| 45000|2016-02-15|         F|   Zane Smith|2025-08-14|2025-08-14 19:39:...|\n",
            "|        003|          102|    Bob Brown| 35|  Male| 55000|2014-05-01|         M|    Bob Brown|2025-08-14|2025-08-14 19:39:...|\n",
            "|        004|          102|    Alice Lee| 28|Female| 48000|2017-09-30|         F|    Alice Lee|2025-08-14|2025-08-14 19:39:...|\n",
            "|        005|          103|    Jack Chan| 40|  Male| 60000|2013-04-01|         M|    Zack Chan|2025-08-14|2025-08-14 19:39:...|\n",
            "|        006|          103|    Jill Wong| 32|Female| 52000|2018-07-01|         F|    Zill Wong|2025-08-14|2025-08-14 19:39:...|\n",
            "|        007|          101|James Johnson| 42|  Male| 70000|2012-03-15|         M|Zames Zohnson|2025-08-14|2025-08-14 19:39:...|\n",
            "|        008|          102|     Kate Kim| 29|Female| 51000|2019-10-01|         F|     Kate Kim|2025-08-14|2025-08-14 19:39:...|\n",
            "|        009|          103|      Tom Tan| 33|  Male| 58000|2016-06-01|         M|      Tom Tan|2025-08-14|2025-08-14 19:39:...|\n",
            "|        010|          104|     Lisa Lee| 27|Female| 47000|2018-08-01|         F|     Lisa Lee|2025-08-14|2025-08-14 19:39:...|\n",
            "|        011|          104|   David Park| 38|  Male| 65000|2015-11-01|         M|   David Park|2025-08-14|2025-08-14 19:39:...|\n",
            "|        012|          105|   Susan Chen| 31|Female| 54000|2017-02-15|         F|   Susan Chen|2025-08-14|2025-08-14 19:39:...|\n",
            "|        013|          106|    Brian Kim| 45|  Male| 75000|2011-07-01|         M|    Brian Kim|2025-08-14|2025-08-14 19:39:...|\n",
            "|        014|          107|    Emily Lee| 26|Female| 46000|2019-01-01|         F|    Emily Lee|2025-08-14|2025-08-14 19:39:...|\n",
            "|        015|          106|  Michael Lee| 37|  Male| 63000|2014-09-30|         M|  Michael Lee|2025-08-14|2025-08-14 19:39:...|\n",
            "|        016|          107|  Kelly Zhang| 30|Female| 49000|2018-04-01|         F|  Kelly Zhang|2025-08-14|2025-08-14 19:39:...|\n",
            "|        017|          105|  George Wang| 34|  Male| 57000|2016-03-15|         M|  George Wang|2025-08-14|2025-08-14 19:39:...|\n",
            "|        018|          104|    Nancy Liu| 29|      | 50000|2017-06-01|         O|    Nancy Liu|2025-08-14|2025-08-14 19:39:...|\n",
            "|        019|          103|  Steven Chen| 36|  Male| 62000|2015-08-01|         M|  Steven Chen|2025-08-14|2025-08-14 19:39:...|\n",
            "|        020|          102|    Grace Kim| 32|Female| 53000|2018-11-01|         F|    Grace Kim|2025-08-14|2025-08-14 19:39:...|\n",
            "+-----------+-------------+-------------+---+------+------+----------+----------+-------------+----------+--------------------+\n",
            "\n"
          ]
        }
      ],
      "source": [
        "emp_null_df.show()"
      ]
    },
    {
      "cell_type": "code",
      "execution_count": 40,
      "id": "585c81ff-0ffd-4ef8-9a4f-24fcafab93fd",
      "metadata": {
        "id": "585c81ff-0ffd-4ef8-9a4f-24fcafab93fd"
      },
      "outputs": [],
      "source": [
        "# Drop old columns and Fix new column names\n",
        "emp_final = emp_null_df.drop(\"name\", \"gender\").withColumnRenamed(\"new_name\", \"name\").withColumnRenamed(\"new_gender\", \"gender\")\n"
      ]
    },
    {
      "cell_type": "code",
      "execution_count": 41,
      "id": "a2260194-4921-46d3-8e45-d67cfec20816",
      "metadata": {
        "id": "a2260194-4921-46d3-8e45-d67cfec20816",
        "outputId": "430bc6fc-729e-4cd5-f3ef-677aea47bc0f",
        "colab": {
          "base_uri": "https://localhost:8080/"
        }
      },
      "outputs": [
        {
          "output_type": "stream",
          "name": "stdout",
          "text": [
            "+-----------+-------------+---+------+----------+------+-------------+----------+--------------------+\n",
            "|employee_id|department_id|age|salary| hire_date|gender|         name|  date_now|       timestamp_now|\n",
            "+-----------+-------------+---+------+----------+------+-------------+----------+--------------------+\n",
            "|        001|          101| 30| 50000|2015-01-01|     M|     Zohn Doe|2025-08-14|2025-08-14 19:39:...|\n",
            "|        002|          101| 25| 45000|2016-02-15|     F|   Zane Smith|2025-08-14|2025-08-14 19:39:...|\n",
            "|        003|          102| 35| 55000|2014-05-01|     M|    Bob Brown|2025-08-14|2025-08-14 19:39:...|\n",
            "|        004|          102| 28| 48000|2017-09-30|     F|    Alice Lee|2025-08-14|2025-08-14 19:39:...|\n",
            "|        005|          103| 40| 60000|2013-04-01|     M|    Zack Chan|2025-08-14|2025-08-14 19:39:...|\n",
            "|        006|          103| 32| 52000|2018-07-01|     F|    Zill Wong|2025-08-14|2025-08-14 19:39:...|\n",
            "|        007|          101| 42| 70000|2012-03-15|     M|Zames Zohnson|2025-08-14|2025-08-14 19:39:...|\n",
            "|        008|          102| 29| 51000|2019-10-01|     F|     Kate Kim|2025-08-14|2025-08-14 19:39:...|\n",
            "|        009|          103| 33| 58000|2016-06-01|     M|      Tom Tan|2025-08-14|2025-08-14 19:39:...|\n",
            "|        010|          104| 27| 47000|2018-08-01|     F|     Lisa Lee|2025-08-14|2025-08-14 19:39:...|\n",
            "|        011|          104| 38| 65000|2015-11-01|     M|   David Park|2025-08-14|2025-08-14 19:39:...|\n",
            "|        012|          105| 31| 54000|2017-02-15|     F|   Susan Chen|2025-08-14|2025-08-14 19:39:...|\n",
            "|        013|          106| 45| 75000|2011-07-01|     M|    Brian Kim|2025-08-14|2025-08-14 19:39:...|\n",
            "|        014|          107| 26| 46000|2019-01-01|     F|    Emily Lee|2025-08-14|2025-08-14 19:39:...|\n",
            "|        015|          106| 37| 63000|2014-09-30|     M|  Michael Lee|2025-08-14|2025-08-14 19:39:...|\n",
            "|        016|          107| 30| 49000|2018-04-01|     F|  Kelly Zhang|2025-08-14|2025-08-14 19:39:...|\n",
            "|        017|          105| 34| 57000|2016-03-15|     M|  George Wang|2025-08-14|2025-08-14 19:39:...|\n",
            "|        018|          104| 29| 50000|2017-06-01|     O|    Nancy Liu|2025-08-14|2025-08-14 19:39:...|\n",
            "|        019|          103| 36| 62000|2015-08-01|     M|  Steven Chen|2025-08-14|2025-08-14 19:39:...|\n",
            "|        020|          102| 32| 53000|2018-11-01|     F|    Grace Kim|2025-08-14|2025-08-14 19:39:...|\n",
            "+-----------+-------------+---+------+----------+------+-------------+----------+--------------------+\n",
            "\n"
          ]
        }
      ],
      "source": [
        "emp_final.show()"
      ]
    },
    {
      "cell_type": "code",
      "execution_count": 42,
      "id": "0d1befcc-6586-4744-965d-472a766c9936",
      "metadata": {
        "id": "0d1befcc-6586-4744-965d-472a766c9936",
        "outputId": "bd318a82-ec92-4c34-95f1-d9b9fa7b3889",
        "colab": {
          "base_uri": "https://localhost:8080/",
          "height": 304
        }
      },
      "outputs": [
        {
          "output_type": "error",
          "ename": "AnalysisException",
          "evalue": "[PATH_ALREADY_EXISTS] Path file:/content/data/output/4/emp.csv already exists. Set mode as \"overwrite\" to overwrite the existing path.",
          "traceback": [
            "\u001b[0;31m---------------------------------------------------------------------------\u001b[0m",
            "\u001b[0;31mAnalysisException\u001b[0m                         Traceback (most recent call last)",
            "\u001b[0;32m/tmp/ipython-input-2207842571.py\u001b[0m in \u001b[0;36m<cell line: 0>\u001b[0;34m()\u001b[0m\n\u001b[1;32m      1\u001b[0m \u001b[0;31m# Write data as CSV\u001b[0m\u001b[0;34m\u001b[0m\u001b[0;34m\u001b[0m\u001b[0m\n\u001b[0;32m----> 2\u001b[0;31m \u001b[0memp_final\u001b[0m\u001b[0;34m.\u001b[0m\u001b[0mwrite\u001b[0m\u001b[0;34m.\u001b[0m\u001b[0mformat\u001b[0m\u001b[0;34m(\u001b[0m\u001b[0;34m\"csv\"\u001b[0m\u001b[0;34m)\u001b[0m\u001b[0;34m.\u001b[0m\u001b[0msave\u001b[0m\u001b[0;34m(\u001b[0m\u001b[0;34m\"data/output/4/emp.csv\"\u001b[0m\u001b[0;34m)\u001b[0m\u001b[0;34m\u001b[0m\u001b[0;34m\u001b[0m\u001b[0m\n\u001b[0m",
            "\u001b[0;32m/usr/local/lib/python3.11/dist-packages/pyspark/sql/readwriter.py\u001b[0m in \u001b[0;36msave\u001b[0;34m(self, path, format, mode, partitionBy, **options)\u001b[0m\n\u001b[1;32m   1461\u001b[0m             \u001b[0mself\u001b[0m\u001b[0;34m.\u001b[0m\u001b[0m_jwrite\u001b[0m\u001b[0;34m.\u001b[0m\u001b[0msave\u001b[0m\u001b[0;34m(\u001b[0m\u001b[0;34m)\u001b[0m\u001b[0;34m\u001b[0m\u001b[0;34m\u001b[0m\u001b[0m\n\u001b[1;32m   1462\u001b[0m         \u001b[0;32melse\u001b[0m\u001b[0;34m:\u001b[0m\u001b[0;34m\u001b[0m\u001b[0;34m\u001b[0m\u001b[0m\n\u001b[0;32m-> 1463\u001b[0;31m             \u001b[0mself\u001b[0m\u001b[0;34m.\u001b[0m\u001b[0m_jwrite\u001b[0m\u001b[0;34m.\u001b[0m\u001b[0msave\u001b[0m\u001b[0;34m(\u001b[0m\u001b[0mpath\u001b[0m\u001b[0;34m)\u001b[0m\u001b[0;34m\u001b[0m\u001b[0;34m\u001b[0m\u001b[0m\n\u001b[0m\u001b[1;32m   1464\u001b[0m \u001b[0;34m\u001b[0m\u001b[0m\n\u001b[1;32m   1465\u001b[0m     \u001b[0;32mdef\u001b[0m \u001b[0minsertInto\u001b[0m\u001b[0;34m(\u001b[0m\u001b[0mself\u001b[0m\u001b[0;34m,\u001b[0m \u001b[0mtableName\u001b[0m\u001b[0;34m:\u001b[0m \u001b[0mstr\u001b[0m\u001b[0;34m,\u001b[0m \u001b[0moverwrite\u001b[0m\u001b[0;34m:\u001b[0m \u001b[0mOptional\u001b[0m\u001b[0;34m[\u001b[0m\u001b[0mbool\u001b[0m\u001b[0;34m]\u001b[0m \u001b[0;34m=\u001b[0m \u001b[0;32mNone\u001b[0m\u001b[0;34m)\u001b[0m \u001b[0;34m->\u001b[0m \u001b[0;32mNone\u001b[0m\u001b[0;34m:\u001b[0m\u001b[0;34m\u001b[0m\u001b[0;34m\u001b[0m\u001b[0m\n",
            "\u001b[0;32m/usr/local/lib/python3.11/dist-packages/py4j/java_gateway.py\u001b[0m in \u001b[0;36m__call__\u001b[0;34m(self, *args)\u001b[0m\n\u001b[1;32m   1320\u001b[0m \u001b[0;34m\u001b[0m\u001b[0m\n\u001b[1;32m   1321\u001b[0m         \u001b[0manswer\u001b[0m \u001b[0;34m=\u001b[0m \u001b[0mself\u001b[0m\u001b[0;34m.\u001b[0m\u001b[0mgateway_client\u001b[0m\u001b[0;34m.\u001b[0m\u001b[0msend_command\u001b[0m\u001b[0;34m(\u001b[0m\u001b[0mcommand\u001b[0m\u001b[0;34m)\u001b[0m\u001b[0;34m\u001b[0m\u001b[0;34m\u001b[0m\u001b[0m\n\u001b[0;32m-> 1322\u001b[0;31m         return_value = get_return_value(\n\u001b[0m\u001b[1;32m   1323\u001b[0m             answer, self.gateway_client, self.target_id, self.name)\n\u001b[1;32m   1324\u001b[0m \u001b[0;34m\u001b[0m\u001b[0m\n",
            "\u001b[0;32m/usr/local/lib/python3.11/dist-packages/pyspark/errors/exceptions/captured.py\u001b[0m in \u001b[0;36mdeco\u001b[0;34m(*a, **kw)\u001b[0m\n\u001b[1;32m    183\u001b[0m                 \u001b[0;31m# Hide where the exception came from that shows a non-Pythonic\u001b[0m\u001b[0;34m\u001b[0m\u001b[0;34m\u001b[0m\u001b[0m\n\u001b[1;32m    184\u001b[0m                 \u001b[0;31m# JVM exception message.\u001b[0m\u001b[0;34m\u001b[0m\u001b[0;34m\u001b[0m\u001b[0m\n\u001b[0;32m--> 185\u001b[0;31m                 \u001b[0;32mraise\u001b[0m \u001b[0mconverted\u001b[0m \u001b[0;32mfrom\u001b[0m \u001b[0;32mNone\u001b[0m\u001b[0;34m\u001b[0m\u001b[0;34m\u001b[0m\u001b[0m\n\u001b[0m\u001b[1;32m    186\u001b[0m             \u001b[0;32melse\u001b[0m\u001b[0;34m:\u001b[0m\u001b[0;34m\u001b[0m\u001b[0;34m\u001b[0m\u001b[0m\n\u001b[1;32m    187\u001b[0m                 \u001b[0;32mraise\u001b[0m\u001b[0;34m\u001b[0m\u001b[0;34m\u001b[0m\u001b[0m\n",
            "\u001b[0;31mAnalysisException\u001b[0m: [PATH_ALREADY_EXISTS] Path file:/content/data/output/4/emp.csv already exists. Set mode as \"overwrite\" to overwrite the existing path."
          ]
        }
      ],
      "source": [
        "# Write data as CSV\n",
        "emp_final.write.format(\"csv\").save(\"data/output/4/emp.csv\")\n"
      ]
    },
    {
      "cell_type": "code",
      "execution_count": null,
      "id": "23e1d434-33a2-43c0-a6a7-61674f4d746f",
      "metadata": {
        "id": "23e1d434-33a2-43c0-a6a7-61674f4d746f"
      },
      "outputs": [],
      "source": [
        "# Bonus TIP\n",
        "# Convert date into String and extract date information\n",
        "from pyspark.sql.functions import date_format\n",
        "\n",
        "emp_fixed = emp_final.withColumn(\"date_year\", date_format(col(\"timestamp_now\"), \"z\"))\n",
        "\n"
      ]
    },
    {
      "cell_type": "code",
      "execution_count": null,
      "id": "4e9d09e2-28b9-4d5c-a006-8e56276246c9",
      "metadata": {
        "id": "4e9d09e2-28b9-4d5c-a006-8e56276246c9"
      },
      "outputs": [],
      "source": [
        "emp_fixed.show()"
      ]
    },
    {
      "cell_type": "code",
      "execution_count": null,
      "id": "50714634-3ec9-4a1a-8888-b8f83710d325",
      "metadata": {
        "id": "50714634-3ec9-4a1a-8888-b8f83710d325"
      },
      "outputs": [],
      "source": []
    }
  ],
  "metadata": {
    "kernelspec": {
      "display_name": "Python 3 (ipykernel)",
      "language": "python",
      "name": "python3"
    },
    "language_info": {
      "codemirror_mode": {
        "name": "ipython",
        "version": 3
      },
      "file_extension": ".py",
      "mimetype": "text/x-python",
      "name": "python",
      "nbconvert_exporter": "python",
      "pygments_lexer": "ipython3",
      "version": "3.10.9"
    },
    "colab": {
      "provenance": [],
      "include_colab_link": true
    }
  },
  "nbformat": 4,
  "nbformat_minor": 5
}